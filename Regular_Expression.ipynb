{
  "nbformat": 4,
  "nbformat_minor": 0,
  "metadata": {
    "colab": {
      "name": "Regular Expression.ipynb",
      "provenance": [],
      "collapsed_sections": [],
      "authorship_tag": "ABX9TyO7HXlFssx5PVmD5F95OKoM",
      "include_colab_link": true
    },
    "kernelspec": {
      "name": "python3",
      "display_name": "Python 3"
    }
  },
  "cells": [
    {
      "cell_type": "markdown",
      "metadata": {
        "id": "view-in-github",
        "colab_type": "text"
      },
      "source": [
        "<a href=\"https://colab.research.google.com/github/kunal24bit/NLP/blob/main/Regular_Expression.ipynb\" target=\"_parent\"><img src=\"https://colab.research.google.com/assets/colab-badge.svg\" alt=\"Open In Colab\"/></a>"
      ]
    },
    {
      "cell_type": "markdown",
      "metadata": {
        "id": "24Cr6WMCJM7j"
      },
      "source": [
        "Imagine you need to find atelephone number that is '488-513-2334' you could do the same:"
      ]
    },
    {
      "cell_type": "code",
      "metadata": {
        "colab": {
          "base_uri": "https://localhost:8080/"
        },
        "id": "Tiy_0nacJbwn",
        "outputId": "dc520bb5-7881-4970-8253-a04adb2394df"
      },
      "source": [
        "\"488-513-2334\" in \"Her phone number is 488-513-2334\""
      ],
      "execution_count": null,
      "outputs": [
        {
          "output_type": "execute_result",
          "data": {
            "text/plain": [
              "True"
            ]
          },
          "metadata": {
            "tags": []
          },
          "execution_count": 4
        }
      ]
    },
    {
      "cell_type": "markdown",
      "metadata": {
        "id": "EWoFyjrsJtHS"
      },
      "source": [
        "But if you do not know the exact phone number ?\r\n",
        "\r\n",
        "If all you know the format of the number \"###-###-####\", you would need regular expression to search through the document for this phrase.\r\n",
        "\r\n",
        "Regular expression allow for pattern searching in a document.\r\n",
        "\r\n",
        "The syntax for regular expression can be very intimidating at first : r'\\d{3}-\\d{3}-\\d{4}'.\r\n",
        "\r\n",
        "The key thing to keep in  mind that every character type has a corresponding pattern code.\r\n",
        "\r\n",
        "For example digits have the placeholder pattern code of \\d. The use of backslash allows python to understand that is a special code not the letter \"d\"."
      ]
    },
    {
      "cell_type": "code",
      "metadata": {
        "id": "6FNtsidQKJmu"
      },
      "source": [
        "text =  \"The phone number of the agent was 488-513-2334. Call me soon.\""
      ],
      "execution_count": null,
      "outputs": []
    },
    {
      "cell_type": "code",
      "metadata": {
        "colab": {
          "base_uri": "https://localhost:8080/"
        },
        "id": "3gDHlIFjLDZn",
        "outputId": "dc2851d7-5376-45aa-b504-b965896b597f"
      },
      "source": [
        "\"488-513-2334\" in text"
      ],
      "execution_count": null,
      "outputs": [
        {
          "output_type": "execute_result",
          "data": {
            "text/plain": [
              "True"
            ]
          },
          "metadata": {
            "tags": []
          },
          "execution_count": 6
        }
      ]
    },
    {
      "cell_type": "code",
      "metadata": {
        "id": "bhNvPBZ7Mlng"
      },
      "source": [
        "import re"
      ],
      "execution_count": null,
      "outputs": []
    },
    {
      "cell_type": "code",
      "metadata": {
        "id": "wHAy74XBMnZ3"
      },
      "source": [
        "pattern = \"phone\""
      ],
      "execution_count": null,
      "outputs": []
    },
    {
      "cell_type": "code",
      "metadata": {
        "colab": {
          "base_uri": "https://localhost:8080/"
        },
        "id": "JC1P1oIvMqhn",
        "outputId": "56dd4cc6-f20d-4a1a-ffd1-d20c0932af16"
      },
      "source": [
        "re.search(pattern, text)"
      ],
      "execution_count": null,
      "outputs": [
        {
          "output_type": "execute_result",
          "data": {
            "text/plain": [
              "<re.Match object; span=(4, 9), match='phone'>"
            ]
          },
          "metadata": {
            "tags": []
          },
          "execution_count": 9
        }
      ]
    },
    {
      "cell_type": "markdown",
      "metadata": {
        "id": "ztASXjYRNLI8"
      },
      "source": [
        "So we got match object here. also we got various things like from where the searched strings starts and where ends."
      ]
    },
    {
      "cell_type": "code",
      "metadata": {
        "id": "-YJOQYihMyW3"
      },
      "source": [
        "my_match = re.search(pattern, text)\r\n"
      ],
      "execution_count": null,
      "outputs": []
    },
    {
      "cell_type": "code",
      "metadata": {
        "colab": {
          "base_uri": "https://localhost:8080/"
        },
        "id": "jHKDDkE7NeiI",
        "outputId": "66b5aea2-2250-48ec-b7aa-ec659fd986a9"
      },
      "source": [
        "my_match.span()"
      ],
      "execution_count": null,
      "outputs": [
        {
          "output_type": "execute_result",
          "data": {
            "text/plain": [
              "(4, 9)"
            ]
          },
          "metadata": {
            "tags": []
          },
          "execution_count": 11
        }
      ]
    },
    {
      "cell_type": "code",
      "metadata": {
        "colab": {
          "base_uri": "https://localhost:8080/"
        },
        "id": "qunZB7lsNifn",
        "outputId": "7c3349a3-3abb-4be2-9dab-2b28549d41b5"
      },
      "source": [
        "my_match.start()"
      ],
      "execution_count": null,
      "outputs": [
        {
          "output_type": "execute_result",
          "data": {
            "text/plain": [
              "4"
            ]
          },
          "metadata": {
            "tags": []
          },
          "execution_count": 12
        }
      ]
    },
    {
      "cell_type": "code",
      "metadata": {
        "colab": {
          "base_uri": "https://localhost:8080/"
        },
        "id": "kwfiuZwJNtuP",
        "outputId": "700a5ae8-3364-46ee-93eb-1f621481cf99"
      },
      "source": [
        "my_match.end()"
      ],
      "execution_count": null,
      "outputs": [
        {
          "output_type": "execute_result",
          "data": {
            "text/plain": [
              "9"
            ]
          },
          "metadata": {
            "tags": []
          },
          "execution_count": 13
        }
      ]
    },
    {
      "cell_type": "markdown",
      "metadata": {
        "id": "Rl69r0uaOMgO"
      },
      "source": [
        "If the pattern occur more then search wont detect all the pattern so use findall."
      ]
    },
    {
      "cell_type": "code",
      "metadata": {
        "id": "ta54s96UNve_"
      },
      "source": [
        "text1 = \"My phone is the new phone\""
      ],
      "execution_count": null,
      "outputs": []
    },
    {
      "cell_type": "code",
      "metadata": {
        "id": "ss1mgfvbPPbf"
      },
      "source": [
        "\r\n",
        "match = re.search(pattern, text1)"
      ],
      "execution_count": null,
      "outputs": []
    },
    {
      "cell_type": "code",
      "metadata": {
        "colab": {
          "base_uri": "https://localhost:8080/"
        },
        "id": "Aq_wXOM9PTBY",
        "outputId": "74120be1-4df1-46c1-9b0c-7cf0f46b7fbe"
      },
      "source": [
        "match.span()"
      ],
      "execution_count": null,
      "outputs": [
        {
          "output_type": "execute_result",
          "data": {
            "text/plain": [
              "(3, 8)"
            ]
          },
          "metadata": {
            "tags": []
          },
          "execution_count": 16
        }
      ]
    },
    {
      "cell_type": "markdown",
      "metadata": {
        "id": "-sxxlDIbQQXe"
      },
      "source": [
        "As we can see here that search is only giving the position of one \"phone\" string."
      ]
    },
    {
      "cell_type": "code",
      "metadata": {
        "id": "5xgFUIaOP7mn"
      },
      "source": [
        "all_matches = re.findall(\"phone\",text1)"
      ],
      "execution_count": null,
      "outputs": []
    },
    {
      "cell_type": "code",
      "metadata": {
        "colab": {
          "base_uri": "https://localhost:8080/"
        },
        "id": "nJ-h-fuqQvwv",
        "outputId": "869969ce-7f05-4280-fe57-abfe74d0dfd9"
      },
      "source": [
        "all_matches"
      ],
      "execution_count": null,
      "outputs": [
        {
          "output_type": "execute_result",
          "data": {
            "text/plain": [
              "['phone', 'phone']"
            ]
          },
          "metadata": {
            "tags": []
          },
          "execution_count": 18
        }
      ]
    },
    {
      "cell_type": "code",
      "metadata": {
        "colab": {
          "base_uri": "https://localhost:8080/"
        },
        "id": "bysiYflpQxwH",
        "outputId": "aaa99a76-142d-4e69-d8fb-b0c961dea583"
      },
      "source": [
        "len(all_matches)"
      ],
      "execution_count": null,
      "outputs": [
        {
          "output_type": "execute_result",
          "data": {
            "text/plain": [
              "2"
            ]
          },
          "metadata": {
            "tags": []
          },
          "execution_count": 19
        }
      ]
    },
    {
      "cell_type": "markdown",
      "metadata": {
        "id": "QOuHTAXZRZJW"
      },
      "source": [
        "If you want to iterate through all matches in your text1 then use finditer."
      ]
    },
    {
      "cell_type": "code",
      "metadata": {
        "colab": {
          "base_uri": "https://localhost:8080/"
        },
        "id": "4EPpqVmPRMTI",
        "outputId": "7a42faea-3ce0-4c37-c83c-bac3c7ebd3f1"
      },
      "source": [
        "for match in re.finditer(\"phone\", text1):\r\n",
        "  print(match.span())"
      ],
      "execution_count": null,
      "outputs": [
        {
          "output_type": "stream",
          "text": [
            "(3, 8)\n",
            "(20, 25)\n"
          ],
          "name": "stdout"
        }
      ]
    },
    {
      "cell_type": "markdown",
      "metadata": {
        "id": "_aIN2JNYSDX-"
      },
      "source": [
        "**Searching for a generalized pattern**\r\n",
        "\r\n",
        "\\d for Digit\r\n",
        "\r\n",
        "\\s for white space\r\n",
        "\r\n",
        "\\w for Alphanumeric\r\n",
        "\r\n",
        "\\D for A non digit\r\n",
        "\r\n",
        "\\W for A non alphanumeric\r\n",
        "\r\n",
        "\\S for non white space\r\n"
      ]
    },
    {
      "cell_type": "code",
      "metadata": {
        "colab": {
          "base_uri": "https://localhost:8080/"
        },
        "id": "uB6SfqjlR1cY",
        "outputId": "a6b487c2-1b8c-4ced-8650-010fb7e2dd25"
      },
      "source": [
        "print(text)"
      ],
      "execution_count": null,
      "outputs": [
        {
          "output_type": "stream",
          "text": [
            "The phone number of the agent was 488-513-2334. Call me soon.\n"
          ],
          "name": "stdout"
        }
      ]
    },
    {
      "cell_type": "code",
      "metadata": {
        "id": "m6CqlhogU1qL"
      },
      "source": [
        "pattern = r'\\d\\d\\d-\\d\\d\\d-\\d\\d\\d\\d'"
      ],
      "execution_count": null,
      "outputs": []
    },
    {
      "cell_type": "code",
      "metadata": {
        "id": "XToAcTxjVNMw"
      },
      "source": [
        "phone_number = re.search(pattern, text)"
      ],
      "execution_count": null,
      "outputs": []
    },
    {
      "cell_type": "code",
      "metadata": {
        "colab": {
          "base_uri": "https://localhost:8080/"
        },
        "id": "RvGfimLOVQaY",
        "outputId": "57c92f29-6434-41a6-b2c2-cba3d32c3996"
      },
      "source": [
        "phone_number"
      ],
      "execution_count": null,
      "outputs": [
        {
          "output_type": "execute_result",
          "data": {
            "text/plain": [
              "<re.Match object; span=(34, 46), match='488-513-2334'>"
            ]
          },
          "metadata": {
            "tags": []
          },
          "execution_count": 24
        }
      ]
    },
    {
      "cell_type": "markdown",
      "metadata": {
        "id": "vzVf8hI_VqNf"
      },
      "source": [
        "If you want to group the searched pattern use group."
      ]
    },
    {
      "cell_type": "code",
      "metadata": {
        "colab": {
          "base_uri": "https://localhost:8080/",
          "height": 35
        },
        "id": "J85U9aLgVeVI",
        "outputId": "94f6847b-004e-4562-d2e0-02b71455fd0e"
      },
      "source": [
        "phone_number.group()"
      ],
      "execution_count": null,
      "outputs": [
        {
          "output_type": "execute_result",
          "data": {
            "application/vnd.google.colaboratory.intrinsic+json": {
              "type": "string"
            },
            "text/plain": [
              "'488-513-2334'"
            ]
          },
          "metadata": {
            "tags": []
          },
          "execution_count": 25
        }
      ]
    },
    {
      "cell_type": "markdown",
      "metadata": {
        "id": "t4gtF1ypWe52"
      },
      "source": [
        "**Quantifiers**\r\n",
        "\r\n",
        "Writing \\d mutiplt times is quite boring so Now that we know the special character designations, we can use them along with quantifiers.\r\n",
        "\r\n",
        "+ stands for Occur one or more time and the pattern code for this is \\w+\r\n",
        "\r\n",
        "\\d{3} Digit occur exactly 3 times.\r\n",
        "\r\n",
        "\\d{2,4} Digit occur two to four times.\r\n",
        "\r\n",
        "\\d{3,} Occurs 3 or more\r\n",
        "\r\n",
        "\"*\" Occurs zero or more times.\r\n",
        "\r\n",
        "? Occurs once or none."
      ]
    },
    {
      "cell_type": "code",
      "metadata": {
        "id": "FinDXOioVvx6"
      },
      "source": [
        "pattern = r'\\d{3}-\\d{3}-\\d{4}'"
      ],
      "execution_count": null,
      "outputs": []
    },
    {
      "cell_type": "code",
      "metadata": {
        "id": "7GRUyFLWePNb"
      },
      "source": [
        "phone_number = re.search(pattern, text)"
      ],
      "execution_count": null,
      "outputs": []
    },
    {
      "cell_type": "code",
      "metadata": {
        "colab": {
          "base_uri": "https://localhost:8080/",
          "height": 35
        },
        "id": "36KzCIMgeWpZ",
        "outputId": "8d0ce62e-cfd3-4764-800b-1cad7c652d13"
      },
      "source": [
        "phone_number.group()"
      ],
      "execution_count": null,
      "outputs": [
        {
          "output_type": "execute_result",
          "data": {
            "application/vnd.google.colaboratory.intrinsic+json": {
              "type": "string"
            },
            "text/plain": [
              "'488-513-2334'"
            ]
          },
          "metadata": {
            "tags": []
          },
          "execution_count": 28
        }
      ]
    },
    {
      "cell_type": "markdown",
      "metadata": {
        "id": "bkh1_SPNgUYX"
      },
      "source": [
        "But if from that phone number I want first three digits the I ahve to use parathesis in pattern i.e. r'\\(d{3})'"
      ]
    },
    {
      "cell_type": "code",
      "metadata": {
        "id": "CHXarmIneY9Z"
      },
      "source": [
        "pattern = r'(\\d{3})-(\\d{3})-(\\d{4})'"
      ],
      "execution_count": null,
      "outputs": []
    },
    {
      "cell_type": "code",
      "metadata": {
        "id": "xs0UHlCdgmJL"
      },
      "source": [
        "phone_number = re.search(pattern,text)"
      ],
      "execution_count": null,
      "outputs": []
    },
    {
      "cell_type": "code",
      "metadata": {
        "colab": {
          "base_uri": "https://localhost:8080/",
          "height": 35
        },
        "id": "a_P3IC6HgrTC",
        "outputId": "b3df589c-ed59-4ead-f517-a6429cf23aff"
      },
      "source": [
        "phone_number.group(1)"
      ],
      "execution_count": null,
      "outputs": [
        {
          "output_type": "execute_result",
          "data": {
            "application/vnd.google.colaboratory.intrinsic+json": {
              "type": "string"
            },
            "text/plain": [
              "'488'"
            ]
          },
          "metadata": {
            "tags": []
          },
          "execution_count": 31
        }
      ]
    },
    {
      "cell_type": "markdown",
      "metadata": {
        "id": "Spc8gEvdhXnI"
      },
      "source": [
        "**Pipe Operator**"
      ]
    },
    {
      "cell_type": "code",
      "metadata": {
        "colab": {
          "base_uri": "https://localhost:8080/"
        },
        "id": "IHra__VdhAcy",
        "outputId": "89c007a8-9f71-473a-9fc8-51ef3833e21b"
      },
      "source": [
        "text2 =  \"This man was here\"\r\n",
        "\r\n",
        "re.search(\"man|woman\",text2)"
      ],
      "execution_count": null,
      "outputs": [
        {
          "output_type": "execute_result",
          "data": {
            "text/plain": [
              "<re.Match object; span=(5, 8), match='man'>"
            ]
          },
          "metadata": {
            "tags": []
          },
          "execution_count": 32
        }
      ]
    },
    {
      "cell_type": "markdown",
      "metadata": {
        "id": "2UbJqETJhwjJ"
      },
      "source": [
        "**Wild card**\r\n",
        "\r\n",
        "If you want to search every word in the text which finishes by suffix then use\r\n",
        "\".\""
      ]
    },
    {
      "cell_type": "code",
      "metadata": {
        "colab": {
          "base_uri": "https://localhost:8080/"
        },
        "id": "zPI4VU9NhlRi",
        "outputId": "b50d0d31-8b42-404f-f1c5-34e0da4ff0bf"
      },
      "source": [
        "re.findall(r\".at\", \"there was a cat who wears hat sat on the mat splat\")"
      ],
      "execution_count": null,
      "outputs": [
        {
          "output_type": "execute_result",
          "data": {
            "text/plain": [
              "['cat', 'hat', 'sat', 'mat', 'lat']"
            ]
          },
          "metadata": {
            "tags": []
          },
          "execution_count": 33
        }
      ]
    },
    {
      "cell_type": "markdown",
      "metadata": {
        "id": "TpDNE5EjjuwR"
      },
      "source": [
        "As you can see here in splat I only got last three letters as .at gives one letter extra. If you want more letters use ..at as per need."
      ]
    },
    {
      "cell_type": "markdown",
      "metadata": {
        "id": "3lHUo83BnMeo"
      },
      "source": [
        "r^ stands for starts with\r\n",
        "r$ stands for ends with."
      ]
    },
    {
      "cell_type": "code",
      "metadata": {
        "colab": {
          "base_uri": "https://localhost:8080/"
        },
        "id": "HLzAK5adnTa0",
        "outputId": "7146faf4-2988-4159-e13d-9d7395008861"
      },
      "source": [
        "re.findall(r\"\\d$\", \"This ends with a number 7\")"
      ],
      "execution_count": null,
      "outputs": [
        {
          "output_type": "execute_result",
          "data": {
            "text/plain": [
              "['7']"
            ]
          },
          "metadata": {
            "tags": []
          },
          "execution_count": 34
        }
      ]
    },
    {
      "cell_type": "code",
      "metadata": {
        "colab": {
          "base_uri": "https://localhost:8080/"
        },
        "id": "uOv7i6uNnilV",
        "outputId": "9c8a954e-2b63-44ba-ddf0-7e709f28f09a"
      },
      "source": [
        "re.findall(r\"^\\d\", \"2 is the smallest even prime number.\")"
      ],
      "execution_count": null,
      "outputs": [
        {
          "output_type": "execute_result",
          "data": {
            "text/plain": [
              "['2']"
            ]
          },
          "metadata": {
            "tags": []
          },
          "execution_count": 35
        }
      ]
    },
    {
      "cell_type": "markdown",
      "metadata": {
        "id": "qOd09sM7zNq5"
      },
      "source": [
        "Removing digit from the text"
      ]
    },
    {
      "cell_type": "code",
      "metadata": {
        "id": "IY0GFEEXnxtc"
      },
      "source": [
        "text3 = \"There are 3 numbers in 134 where 1 and 3 is odd and 4 is even\""
      ],
      "execution_count": null,
      "outputs": []
    },
    {
      "cell_type": "code",
      "metadata": {
        "colab": {
          "base_uri": "https://localhost:8080/"
        },
        "id": "C0LqcaIlzg3h",
        "outputId": "2b7ffb90-6c60-485c-e85f-ba28f20b1b9a"
      },
      "source": [
        "re.findall(r'[^\\d]+',text3)"
      ],
      "execution_count": null,
      "outputs": [
        {
          "output_type": "execute_result",
          "data": {
            "text/plain": [
              "['There are ', ' numbers in ', ' where ', ' and ', ' is odd and ', ' is even']"
            ]
          },
          "metadata": {
            "tags": []
          },
          "execution_count": 39
        }
      ]
    },
    {
      "cell_type": "code",
      "metadata": {
        "id": "13qM7IU4zn0n"
      },
      "source": [
        "#To remove punctation\r\n",
        "text_phrase = \"This is a string. But it has punctuation! How to remove it?\""
      ],
      "execution_count": null,
      "outputs": []
    },
    {
      "cell_type": "code",
      "metadata": {
        "id": "4fBBIuem0M2V"
      },
      "source": [
        "my_list = re.findall(r\"[^!.?]+\", text_phrase)"
      ],
      "execution_count": null,
      "outputs": []
    },
    {
      "cell_type": "code",
      "metadata": {
        "colab": {
          "base_uri": "https://localhost:8080/"
        },
        "id": "fnsJlMxH0UWL",
        "outputId": "12ed8d00-1950-45ae-8b4e-2b317e25f1a9"
      },
      "source": [
        "my_list"
      ],
      "execution_count": null,
      "outputs": [
        {
          "output_type": "execute_result",
          "data": {
            "text/plain": [
              "['This is a string', ' But it has punctuation', ' How to remove it']"
            ]
          },
          "metadata": {
            "tags": []
          },
          "execution_count": 47
        }
      ]
    },
    {
      "cell_type": "code",
      "metadata": {
        "colab": {
          "base_uri": "https://localhost:8080/",
          "height": 35
        },
        "id": "ODe_OxQ40hXw",
        "outputId": "e2092632-f622-4c3f-a38b-fe2b09db2045"
      },
      "source": [
        "''.join(my_list)"
      ],
      "execution_count": null,
      "outputs": [
        {
          "output_type": "execute_result",
          "data": {
            "application/vnd.google.colaboratory.intrinsic+json": {
              "type": "string"
            },
            "text/plain": [
              "'This is a string But it has punctuation How to remove it'"
            ]
          },
          "metadata": {
            "tags": []
          },
          "execution_count": 50
        }
      ]
    },
    {
      "cell_type": "markdown",
      "metadata": {
        "id": "TVVUwBjS1iSu"
      },
      "source": [
        "**Finding the hyphen words**"
      ]
    },
    {
      "cell_type": "code",
      "metadata": {
        "id": "6akRM0vX1DgQ"
      },
      "source": [
        "text4 = \"Only find the hyphen-words. Those are long-ish dash words\""
      ],
      "execution_count": null,
      "outputs": []
    },
    {
      "cell_type": "code",
      "metadata": {
        "colab": {
          "base_uri": "https://localhost:8080/"
        },
        "id": "fCU1N3141ySx",
        "outputId": "3d1dd148-4d5c-4399-bc24-3d750d33915a"
      },
      "source": [
        "re.findall(r\"[\\w]+-[\\w]+\",text4)"
      ],
      "execution_count": null,
      "outputs": [
        {
          "output_type": "execute_result",
          "data": {
            "text/plain": [
              "['hyphen-words', 'long-ish']"
            ]
          },
          "metadata": {
            "tags": []
          },
          "execution_count": 53
        }
      ]
    },
    {
      "cell_type": "code",
      "metadata": {
        "id": "PI0iC9dy187X"
      },
      "source": [
        ""
      ],
      "execution_count": null,
      "outputs": []
    }
  ]
}