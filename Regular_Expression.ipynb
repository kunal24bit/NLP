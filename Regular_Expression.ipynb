{
  "nbformat": 4,
  "nbformat_minor": 0,
  "metadata": {
    "colab": {
      "name": "Regular Expression.ipynb",
      "provenance": [],
      "authorship_tag": "ABX9TyPNXixnqDFz17XZBrqocdbb",
      "include_colab_link": true
    },
    "kernelspec": {
      "name": "python3",
      "display_name": "Python 3"
    }
  },
  "cells": [
    {
      "cell_type": "markdown",
      "metadata": {
        "id": "view-in-github",
        "colab_type": "text"
      },
      "source": [
        "<a href=\"https://colab.research.google.com/github/kunal24bit/NLP/blob/main/Regular_Expression.ipynb\" target=\"_parent\"><img src=\"https://colab.research.google.com/assets/colab-badge.svg\" alt=\"Open In Colab\"/></a>"
      ]
    },
    {
      "cell_type": "markdown",
      "metadata": {
        "id": "24Cr6WMCJM7j"
      },
      "source": [
        "Imagine you need to find atelephone number that is '488-513-2334' you could do the same:"
      ]
    },
    {
      "cell_type": "code",
      "metadata": {
        "colab": {
          "base_uri": "https://localhost:8080/"
        },
        "id": "Tiy_0nacJbwn",
        "outputId": "5669e719-93eb-4046-d772-5659cc161d60"
      },
      "source": [
        "\"488-513-2334\" in \"Her phone number is 488-513-2334\""
      ],
      "execution_count": 2,
      "outputs": [
        {
          "output_type": "execute_result",
          "data": {
            "text/plain": [
              "True"
            ]
          },
          "metadata": {
            "tags": []
          },
          "execution_count": 2
        }
      ]
    },
    {
      "cell_type": "markdown",
      "metadata": {
        "id": "EWoFyjrsJtHS"
      },
      "source": [
        "But if you do not know the exact phone number ?\r\n",
        "\r\n",
        "If all you know the format of the number \"###-###-####\", you would need regular expression to search through the document for this phrase.\r\n",
        "\r\n",
        "Regular expression allow for pattern searching in a document.\r\n",
        "\r\n",
        "The syntax for regular expression can be very intimidating at first : r'\\d{3}-\\d{3}-\\d{4}'.\r\n",
        "\r\n",
        "The key thing to keep in  mind that every character type has a corresponding pattern code.\r\n",
        "\r\n",
        "For example digits have the placeholder pattern code of \\d. The use of backslash allows python to understand that is a special code not the letter \"d\"."
      ]
    },
    {
      "cell_type": "code",
      "metadata": {
        "id": "6FNtsidQKJmu"
      },
      "source": [
        "text =  \"The phone number of the agent was 488-513-2334. Call me soon.\""
      ],
      "execution_count": 44,
      "outputs": []
    },
    {
      "cell_type": "code",
      "metadata": {
        "colab": {
          "base_uri": "https://localhost:8080/"
        },
        "id": "3gDHlIFjLDZn",
        "outputId": "15c49975-c8a9-41d5-96b3-f3b4458a691d"
      },
      "source": [
        "\"488-513-2334\" in text"
      ],
      "execution_count": 45,
      "outputs": [
        {
          "output_type": "execute_result",
          "data": {
            "text/plain": [
              "True"
            ]
          },
          "metadata": {
            "tags": []
          },
          "execution_count": 45
        }
      ]
    },
    {
      "cell_type": "code",
      "metadata": {
        "id": "bhNvPBZ7Mlng"
      },
      "source": [
        "import re"
      ],
      "execution_count": 46,
      "outputs": []
    },
    {
      "cell_type": "code",
      "metadata": {
        "id": "wHAy74XBMnZ3"
      },
      "source": [
        "pattern = \"phone\""
      ],
      "execution_count": 47,
      "outputs": []
    },
    {
      "cell_type": "code",
      "metadata": {
        "colab": {
          "base_uri": "https://localhost:8080/"
        },
        "id": "JC1P1oIvMqhn",
        "outputId": "5d953d4d-86a1-4454-d111-e4e04aadceb9"
      },
      "source": [
        "re.search(pattern, text)"
      ],
      "execution_count": 48,
      "outputs": [
        {
          "output_type": "execute_result",
          "data": {
            "text/plain": [
              "<re.Match object; span=(4, 9), match='phone'>"
            ]
          },
          "metadata": {
            "tags": []
          },
          "execution_count": 48
        }
      ]
    },
    {
      "cell_type": "markdown",
      "metadata": {
        "id": "ztASXjYRNLI8"
      },
      "source": [
        "So we got match object here. also we got various things like from where the searched strings starts and where ends."
      ]
    },
    {
      "cell_type": "code",
      "metadata": {
        "id": "-YJOQYihMyW3"
      },
      "source": [
        "my_match = re.search(pattern, text)\r\n"
      ],
      "execution_count": 49,
      "outputs": []
    },
    {
      "cell_type": "code",
      "metadata": {
        "colab": {
          "base_uri": "https://localhost:8080/"
        },
        "id": "jHKDDkE7NeiI",
        "outputId": "e2ca1051-594c-435f-b7f4-afe3b40d2dcf"
      },
      "source": [
        "my_match.span()"
      ],
      "execution_count": 50,
      "outputs": [
        {
          "output_type": "execute_result",
          "data": {
            "text/plain": [
              "(4, 9)"
            ]
          },
          "metadata": {
            "tags": []
          },
          "execution_count": 50
        }
      ]
    },
    {
      "cell_type": "code",
      "metadata": {
        "colab": {
          "base_uri": "https://localhost:8080/"
        },
        "id": "qunZB7lsNifn",
        "outputId": "e2ad2a18-8eb1-4b71-c5b7-de7eb9507be9"
      },
      "source": [
        "my_match.start()"
      ],
      "execution_count": 51,
      "outputs": [
        {
          "output_type": "execute_result",
          "data": {
            "text/plain": [
              "4"
            ]
          },
          "metadata": {
            "tags": []
          },
          "execution_count": 51
        }
      ]
    },
    {
      "cell_type": "code",
      "metadata": {
        "colab": {
          "base_uri": "https://localhost:8080/"
        },
        "id": "kwfiuZwJNtuP",
        "outputId": "6a4f51dc-81b8-4e5e-dcbc-aea3d35c2124"
      },
      "source": [
        "my_match.end()"
      ],
      "execution_count": 52,
      "outputs": [
        {
          "output_type": "execute_result",
          "data": {
            "text/plain": [
              "9"
            ]
          },
          "metadata": {
            "tags": []
          },
          "execution_count": 52
        }
      ]
    },
    {
      "cell_type": "markdown",
      "metadata": {
        "id": "Rl69r0uaOMgO"
      },
      "source": [
        "If the pattern occur more then search wont detect all the pattern so use findall."
      ]
    },
    {
      "cell_type": "code",
      "metadata": {
        "id": "ta54s96UNve_"
      },
      "source": [
        "text1 = \"My phone is the new phone\""
      ],
      "execution_count": 53,
      "outputs": []
    },
    {
      "cell_type": "code",
      "metadata": {
        "id": "ss1mgfvbPPbf"
      },
      "source": [
        "\r\n",
        "match = re.search(pattern, text1)"
      ],
      "execution_count": 54,
      "outputs": []
    },
    {
      "cell_type": "code",
      "metadata": {
        "colab": {
          "base_uri": "https://localhost:8080/"
        },
        "id": "Aq_wXOM9PTBY",
        "outputId": "26797b2e-1783-45ef-8940-57dd6d1b11d5"
      },
      "source": [
        "match.span()"
      ],
      "execution_count": 55,
      "outputs": [
        {
          "output_type": "execute_result",
          "data": {
            "text/plain": [
              "(3, 8)"
            ]
          },
          "metadata": {
            "tags": []
          },
          "execution_count": 55
        }
      ]
    },
    {
      "cell_type": "markdown",
      "metadata": {
        "id": "-sxxlDIbQQXe"
      },
      "source": [
        "As we can see here that search is only giving the position of one \"phone\" string."
      ]
    },
    {
      "cell_type": "code",
      "metadata": {
        "id": "5xgFUIaOP7mn"
      },
      "source": [
        "all_matches = re.findall(\"phone\",text1)"
      ],
      "execution_count": 56,
      "outputs": []
    },
    {
      "cell_type": "code",
      "metadata": {
        "colab": {
          "base_uri": "https://localhost:8080/"
        },
        "id": "nJ-h-fuqQvwv",
        "outputId": "a7281be3-cfe2-478f-93fc-412e3f68b0e6"
      },
      "source": [
        "all_matches"
      ],
      "execution_count": 57,
      "outputs": [
        {
          "output_type": "execute_result",
          "data": {
            "text/plain": [
              "['phone', 'phone']"
            ]
          },
          "metadata": {
            "tags": []
          },
          "execution_count": 57
        }
      ]
    },
    {
      "cell_type": "code",
      "metadata": {
        "colab": {
          "base_uri": "https://localhost:8080/"
        },
        "id": "bysiYflpQxwH",
        "outputId": "3a39e05b-2b4c-4525-f5dc-8b1cf8e13a84"
      },
      "source": [
        "len(all_matches)"
      ],
      "execution_count": 58,
      "outputs": [
        {
          "output_type": "execute_result",
          "data": {
            "text/plain": [
              "2"
            ]
          },
          "metadata": {
            "tags": []
          },
          "execution_count": 58
        }
      ]
    },
    {
      "cell_type": "markdown",
      "metadata": {
        "id": "QOuHTAXZRZJW"
      },
      "source": [
        "If you want to iterate through all matches in your text1 then use finditer."
      ]
    },
    {
      "cell_type": "code",
      "metadata": {
        "colab": {
          "base_uri": "https://localhost:8080/"
        },
        "id": "4EPpqVmPRMTI",
        "outputId": "f8581892-03b0-444a-8804-a03a391bc493"
      },
      "source": [
        "for match in re.finditer(\"phone\", text1):\r\n",
        "  print(match.span())"
      ],
      "execution_count": 59,
      "outputs": [
        {
          "output_type": "stream",
          "text": [
            "(3, 8)\n",
            "(20, 25)\n"
          ],
          "name": "stdout"
        }
      ]
    },
    {
      "cell_type": "markdown",
      "metadata": {
        "id": "_aIN2JNYSDX-"
      },
      "source": [
        "**Searching for a generalized pattern**\r\n",
        "\r\n",
        "\\d for Digit\r\n",
        "\r\n",
        "\\s for white space\r\n",
        "\r\n",
        "\\w for Alphanumeric\r\n",
        "\r\n",
        "\\D for A non digit\r\n",
        "\r\n",
        "\\W for A non alphanumeric\r\n",
        "\r\n",
        "\\S for non white space\r\n"
      ]
    },
    {
      "cell_type": "code",
      "metadata": {
        "colab": {
          "base_uri": "https://localhost:8080/"
        },
        "id": "uB6SfqjlR1cY",
        "outputId": "2f3913ad-2a7f-4496-9214-2ae41212d01c"
      },
      "source": [
        "print(text)"
      ],
      "execution_count": 60,
      "outputs": [
        {
          "output_type": "stream",
          "text": [
            "The phone number of the agent was 488-513-2334. Call me soon.\n"
          ],
          "name": "stdout"
        }
      ]
    },
    {
      "cell_type": "code",
      "metadata": {
        "id": "m6CqlhogU1qL"
      },
      "source": [
        "pattern = r'\\d\\d\\d-\\d\\d\\d-\\d\\d\\d\\d'"
      ],
      "execution_count": 66,
      "outputs": []
    },
    {
      "cell_type": "code",
      "metadata": {
        "id": "XToAcTxjVNMw"
      },
      "source": [
        "phone_number = re.search(pattern, text)"
      ],
      "execution_count": 67,
      "outputs": []
    },
    {
      "cell_type": "code",
      "metadata": {
        "colab": {
          "base_uri": "https://localhost:8080/"
        },
        "id": "RvGfimLOVQaY",
        "outputId": "1cd68562-1d20-4f3e-c856-84e89ef26ba5"
      },
      "source": [
        "phone_number"
      ],
      "execution_count": 68,
      "outputs": [
        {
          "output_type": "execute_result",
          "data": {
            "text/plain": [
              "<re.Match object; span=(34, 46), match='488-513-2334'>"
            ]
          },
          "metadata": {
            "tags": []
          },
          "execution_count": 68
        }
      ]
    },
    {
      "cell_type": "markdown",
      "metadata": {
        "id": "vzVf8hI_VqNf"
      },
      "source": [
        "If you want to group the searched pattern use group."
      ]
    },
    {
      "cell_type": "code",
      "metadata": {
        "colab": {
          "base_uri": "https://localhost:8080/",
          "height": 35
        },
        "id": "J85U9aLgVeVI",
        "outputId": "1c8e98cc-9202-4541-c98e-950f39df0fa9"
      },
      "source": [
        "phone_number.group()"
      ],
      "execution_count": 69,
      "outputs": [
        {
          "output_type": "execute_result",
          "data": {
            "application/vnd.google.colaboratory.intrinsic+json": {
              "type": "string"
            },
            "text/plain": [
              "'488-513-2334'"
            ]
          },
          "metadata": {
            "tags": []
          },
          "execution_count": 69
        }
      ]
    },
    {
      "cell_type": "markdown",
      "metadata": {
        "id": "t4gtF1ypWe52"
      },
      "source": [
        "**Quantifiers**\r\n",
        "\r\n",
        "Writing \\d mutiplt times is quite boring so Now that we know the special character designations, we can use them along with quantifiers.\r\n",
        "\r\n",
        "+ stands for Occur one or more time and the pattern code for this is \\w+\r\n",
        "\r\n",
        "\\d{3} Digit occur exactly 3 times.\r\n",
        "\r\n",
        "\\d{2,4} Digit occur two to four times.\r\n",
        "\r\n",
        "\\d{3,} Occurs 3 or more\r\n",
        "\r\n",
        "\"*\" Occurs zero or more times.\r\n",
        "\r\n",
        "? Occurs once or none."
      ]
    },
    {
      "cell_type": "code",
      "metadata": {
        "id": "FinDXOioVvx6"
      },
      "source": [
        "pattern = r'\\d{3}-\\d{3}-\\d{4}'"
      ],
      "execution_count": 70,
      "outputs": []
    },
    {
      "cell_type": "code",
      "metadata": {
        "id": "7GRUyFLWePNb"
      },
      "source": [
        "phone_number = re.search(pattern, text)"
      ],
      "execution_count": 71,
      "outputs": []
    },
    {
      "cell_type": "code",
      "metadata": {
        "colab": {
          "base_uri": "https://localhost:8080/",
          "height": 35
        },
        "id": "36KzCIMgeWpZ",
        "outputId": "00b1b345-0aa7-49ea-ff83-df15e426a93e"
      },
      "source": [
        "phone_number.group()"
      ],
      "execution_count": 73,
      "outputs": [
        {
          "output_type": "execute_result",
          "data": {
            "application/vnd.google.colaboratory.intrinsic+json": {
              "type": "string"
            },
            "text/plain": [
              "'488-513-2334'"
            ]
          },
          "metadata": {
            "tags": []
          },
          "execution_count": 73
        }
      ]
    },
    {
      "cell_type": "markdown",
      "metadata": {
        "id": "bkh1_SPNgUYX"
      },
      "source": [
        "But if from that phone number I want first three digits the I ahve to use parathesis in pattern i.e. r'\\(d{3})'"
      ]
    },
    {
      "cell_type": "code",
      "metadata": {
        "id": "CHXarmIneY9Z"
      },
      "source": [
        "pattern = r'(\\d{3})-(\\d{3})-(\\d{4})'"
      ],
      "execution_count": 74,
      "outputs": []
    },
    {
      "cell_type": "code",
      "metadata": {
        "id": "xs0UHlCdgmJL"
      },
      "source": [
        "phone_number = re.search(pattern,text)"
      ],
      "execution_count": 75,
      "outputs": []
    },
    {
      "cell_type": "code",
      "metadata": {
        "colab": {
          "base_uri": "https://localhost:8080/",
          "height": 35
        },
        "id": "a_P3IC6HgrTC",
        "outputId": "940fe3a4-a3bf-4d01-9e61-5daae3d48424"
      },
      "source": [
        "phone_number.group(1)"
      ],
      "execution_count": 76,
      "outputs": [
        {
          "output_type": "execute_result",
          "data": {
            "application/vnd.google.colaboratory.intrinsic+json": {
              "type": "string"
            },
            "text/plain": [
              "'488'"
            ]
          },
          "metadata": {
            "tags": []
          },
          "execution_count": 76
        }
      ]
    },
    {
      "cell_type": "markdown",
      "metadata": {
        "id": "Spc8gEvdhXnI"
      },
      "source": [
        "**Pipe Operator**"
      ]
    },
    {
      "cell_type": "code",
      "metadata": {
        "colab": {
          "base_uri": "https://localhost:8080/"
        },
        "id": "IHra__VdhAcy",
        "outputId": "10ae5d47-fdf9-488a-ecee-765e470a6af4"
      },
      "source": [
        "text2 =  \"This man was here\"\r\n",
        "\r\n",
        "re.search(\"man|woman\",text2)"
      ],
      "execution_count": 77,
      "outputs": [
        {
          "output_type": "execute_result",
          "data": {
            "text/plain": [
              "<re.Match object; span=(5, 8), match='man'>"
            ]
          },
          "metadata": {
            "tags": []
          },
          "execution_count": 77
        }
      ]
    },
    {
      "cell_type": "markdown",
      "metadata": {
        "id": "2UbJqETJhwjJ"
      },
      "source": [
        "**Wild card**\r\n",
        "\r\n",
        "If you want to search every word in the text which finishes by suffix then use\r\n",
        "\".\""
      ]
    },
    {
      "cell_type": "code",
      "metadata": {
        "colab": {
          "base_uri": "https://localhost:8080/"
        },
        "id": "zPI4VU9NhlRi",
        "outputId": "052deb97-7739-4af5-b7f0-4a3db8a273e7"
      },
      "source": [
        "re.findall(r\".at\", \"there was a cat who wears hat sat on the mat splat\")"
      ],
      "execution_count": 80,
      "outputs": [
        {
          "output_type": "execute_result",
          "data": {
            "text/plain": [
              "['cat', 'hat', 'sat', 'mat', 'lat']"
            ]
          },
          "metadata": {
            "tags": []
          },
          "execution_count": 80
        }
      ]
    },
    {
      "cell_type": "markdown",
      "metadata": {
        "id": "TpDNE5EjjuwR"
      },
      "source": [
        "As you can see here in splat I only got last three letters as .at gives one letter extra. If you want more letters use ..at as per need."
      ]
    },
    {
      "cell_type": "markdown",
      "metadata": {
        "id": "3lHUo83BnMeo"
      },
      "source": [
        "r^ stands for starts with\r\n",
        "r$ stands for ends with."
      ]
    },
    {
      "cell_type": "code",
      "metadata": {
        "colab": {
          "base_uri": "https://localhost:8080/"
        },
        "id": "HLzAK5adnTa0",
        "outputId": "763bcebe-03fd-43fc-85ce-3207095767a8"
      },
      "source": [
        "re.findall(r\"\\d$\", \"This ends with a number 7\")"
      ],
      "execution_count": 82,
      "outputs": [
        {
          "output_type": "execute_result",
          "data": {
            "text/plain": [
              "['7']"
            ]
          },
          "metadata": {
            "tags": []
          },
          "execution_count": 82
        }
      ]
    },
    {
      "cell_type": "code",
      "metadata": {
        "colab": {
          "base_uri": "https://localhost:8080/"
        },
        "id": "uOv7i6uNnilV",
        "outputId": "9ddc5539-8814-49a3-9579-6b96a3c888fd"
      },
      "source": [
        "re.findall(r\"^\\d\", \"2 is the smallest even prime number.\")"
      ],
      "execution_count": 83,
      "outputs": [
        {
          "output_type": "execute_result",
          "data": {
            "text/plain": [
              "['2']"
            ]
          },
          "metadata": {
            "tags": []
          },
          "execution_count": 83
        }
      ]
    },
    {
      "cell_type": "code",
      "metadata": {
        "id": "IY0GFEEXnxtc"
      },
      "source": [
        ""
      ],
      "execution_count": null,
      "outputs": []
    }
  ]
}