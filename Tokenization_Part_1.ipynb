{
  "nbformat": 4,
  "nbformat_minor": 0,
  "metadata": {
    "colab": {
      "name": "Tokenization Part 1.ipynb",
      "provenance": [],
      "authorship_tag": "ABX9TyPGLYYAIeO2B/3pi/fCgh/T",
      "include_colab_link": true
    },
    "kernelspec": {
      "name": "python3",
      "display_name": "Python 3"
    }
  },
  "cells": [
    {
      "cell_type": "markdown",
      "metadata": {
        "id": "view-in-github",
        "colab_type": "text"
      },
      "source": [
        "<a href=\"https://colab.research.google.com/github/kunal24bit/NLP/blob/main/Tokenization_Part_1.ipynb\" target=\"_parent\"><img src=\"https://colab.research.google.com/assets/colab-badge.svg\" alt=\"Open In Colab\"/></a>"
      ]
    },
    {
      "cell_type": "code",
      "metadata": {
        "id": "yQ-v3QnSdHTz"
      },
      "source": [
        ""
      ],
      "execution_count": null,
      "outputs": []
    },
    {
      "cell_type": "markdown",
      "metadata": {
        "id": "IS-MK_u9dP20"
      },
      "source": [
        "**Tokenization**\r\n",
        "\r\n",
        "Tokenization is the process of breaking up the original text in to component pieces(Tokens). Tokens are the basic building blocks of a doc object. Everything that helps us understand the meaning of text is dervied from tokens and their relationship to one another.\r\n",
        "\r\n",
        "Prefix: Character(s) at the begining.\r\n",
        "Suffix: Character(s) at the end.\r\n",
        "Infix:  Character(s) in between"
      ]
    },
    {
      "cell_type": "code",
      "metadata": {
        "id": "H9NGznX_dh3I"
      },
      "source": [
        "import spacy\r\n",
        "\r\n",
        "nlp = spacy.load(\"en_core_web_sm\")"
      ],
      "execution_count": 3,
      "outputs": []
    },
    {
      "cell_type": "code",
      "metadata": {
        "id": "JCll9FRIfPKa"
      },
      "source": [
        "mystring = '\"We\\'re moving to L.A!\"'"
      ],
      "execution_count": 4,
      "outputs": []
    },
    {
      "cell_type": "code",
      "metadata": {
        "colab": {
          "base_uri": "https://localhost:8080/"
        },
        "id": "GCuJtm6xfmI4",
        "outputId": "bf8427f9-5ce2-42ab-b53c-93002d9f4d6e"
      },
      "source": [
        "print(mystring)"
      ],
      "execution_count": 5,
      "outputs": [
        {
          "output_type": "stream",
          "text": [
            "\"We're moving to L.A!\"\n"
          ],
          "name": "stdout"
        }
      ]
    },
    {
      "cell_type": "code",
      "metadata": {
        "id": "Iv-yPtdhft44"
      },
      "source": [
        "doc = nlp(mystring)"
      ],
      "execution_count": 6,
      "outputs": []
    },
    {
      "cell_type": "code",
      "metadata": {
        "colab": {
          "base_uri": "https://localhost:8080/"
        },
        "id": "et7rcXYxfy2v",
        "outputId": "bd06499c-5204-4954-d397-2d25d2f2ec90"
      },
      "source": [
        "for token in doc:\r\n",
        "  print(token.text)"
      ],
      "execution_count": 7,
      "outputs": [
        {
          "output_type": "stream",
          "text": [
            "\"\n",
            "We\n",
            "'re\n",
            "moving\n",
            "to\n",
            "L.A\n",
            "!\n",
            "\"\n"
          ],
          "name": "stdout"
        }
      ]
    },
    {
      "cell_type": "code",
      "metadata": {
        "id": "uApjN5CJf65A"
      },
      "source": [
        "doc2 =  nlp(u\"We\\'re here to help! Send snail-mail, email supoort@oursite.com or visit us at http://oursite.com\")"
      ],
      "execution_count": 19,
      "outputs": []
    },
    {
      "cell_type": "code",
      "metadata": {
        "colab": {
          "base_uri": "https://localhost:8080/"
        },
        "id": "27RZUnXymUjc",
        "outputId": "6f7749fe-32e4-44c6-e02c-3588099ead58"
      },
      "source": [
        "for t in doc2:\r\n",
        "  print(t.text, t.pos_)"
      ],
      "execution_count": 9,
      "outputs": [
        {
          "output_type": "stream",
          "text": [
            "We PRON\n",
            "'re AUX\n",
            "here ADV\n",
            "to PART\n",
            "help VERB\n",
            "! PUNCT\n",
            "Send VERB\n",
            "snail NOUN\n",
            "- PUNCT\n",
            "mail NOUN\n",
            ", PUNCT\n",
            "email NOUN\n",
            "supoort@oursite.com X\n",
            "or CCONJ\n",
            "visit VERB\n",
            "us PRON\n",
            "at ADP\n",
            "http://oursite.com X\n"
          ],
          "name": "stdout"
        }
      ]
    },
    {
      "cell_type": "code",
      "metadata": {
        "id": "UWhKT0LtmXpx"
      },
      "source": [
        "doc3 = nlp(u\"A 5km NYC can ride cost $10.30\")"
      ],
      "execution_count": 10,
      "outputs": []
    },
    {
      "cell_type": "code",
      "metadata": {
        "colab": {
          "base_uri": "https://localhost:8080/"
        },
        "id": "3SRcCH8OAtcu",
        "outputId": "fe5df6ee-cec2-4d8c-e058-f9ef35699109"
      },
      "source": [
        "for t in doc3:\r\n",
        "  print(t)"
      ],
      "execution_count": 11,
      "outputs": [
        {
          "output_type": "stream",
          "text": [
            "A\n",
            "5\n",
            "km\n",
            "NYC\n",
            "can\n",
            "ride\n",
            "cost\n",
            "$\n",
            "10.30\n"
          ],
          "name": "stdout"
        }
      ]
    },
    {
      "cell_type": "code",
      "metadata": {
        "id": "dI2yhZ84AxeM"
      },
      "source": [
        "doc4 = nlp(u\"Let's visit St. Louis in the U.S. next year\")"
      ],
      "execution_count": 12,
      "outputs": []
    },
    {
      "cell_type": "code",
      "metadata": {
        "colab": {
          "base_uri": "https://localhost:8080/"
        },
        "id": "qj23SuR4BEqr",
        "outputId": "074cdb74-f181-40aa-a185-6c7ff8493036"
      },
      "source": [
        "for t in doc4:\r\n",
        "  print(t)"
      ],
      "execution_count": 13,
      "outputs": [
        {
          "output_type": "stream",
          "text": [
            "Let\n",
            "'s\n",
            "visit\n",
            "St.\n",
            "Louis\n",
            "in\n",
            "the\n",
            "U.S.\n",
            "next\n",
            "year\n"
          ],
          "name": "stdout"
        }
      ]
    },
    {
      "cell_type": "code",
      "metadata": {
        "colab": {
          "base_uri": "https://localhost:8080/"
        },
        "id": "Vz_UMcCWBHZL",
        "outputId": "514a3e46-d538-4008-ca8e-b2163098ee90"
      },
      "source": [
        "#for calculating the of doc\r\n",
        "len(doc4)"
      ],
      "execution_count": 14,
      "outputs": [
        {
          "output_type": "execute_result",
          "data": {
            "text/plain": [
              "10"
            ]
          },
          "metadata": {
            "tags": []
          },
          "execution_count": 14
        }
      ]
    },
    {
      "cell_type": "code",
      "metadata": {
        "colab": {
          "base_uri": "https://localhost:8080/"
        },
        "id": "qczXNXPKBbzb",
        "outputId": "a3ea7c4e-8bc4-4373-a364-dab8973dab67"
      },
      "source": [
        "doc4.vocab"
      ],
      "execution_count": 16,
      "outputs": [
        {
          "output_type": "execute_result",
          "data": {
            "text/plain": [
              "<spacy.vocab.Vocab at 0x7f27576f37a0>"
            ]
          },
          "metadata": {
            "tags": []
          },
          "execution_count": 16
        }
      ]
    },
    {
      "cell_type": "code",
      "metadata": {
        "colab": {
          "base_uri": "https://localhost:8080/"
        },
        "id": "dY3Bv9uIBkeL",
        "outputId": "bd31b10e-729d-4609-a1b6-8111addbbbcb"
      },
      "source": [
        "len(doc4.vocab)"
      ],
      "execution_count": 17,
      "outputs": [
        {
          "output_type": "execute_result",
          "data": {
            "text/plain": [
              "510"
            ]
          },
          "metadata": {
            "tags": []
          },
          "execution_count": 17
        }
      ]
    },
    {
      "cell_type": "markdown",
      "metadata": {
        "id": "Pa-s2Uv5B8xS"
      },
      "source": [
        "So there are 510 different tokens in spacy vocab."
      ]
    },
    {
      "cell_type": "code",
      "metadata": {
        "id": "iety26BSBrUr"
      },
      "source": [
        "doc5 = nlp(u\"It is better to give than recieve\")"
      ],
      "execution_count": 21,
      "outputs": []
    },
    {
      "cell_type": "code",
      "metadata": {
        "colab": {
          "base_uri": "https://localhost:8080/"
        },
        "id": "C2BxLCwaCY0U",
        "outputId": "0ec27971-f006-4d7a-fd27-22aa48c2f521"
      },
      "source": [
        "for t in doc5:\r\n",
        "  print(t)"
      ],
      "execution_count": 22,
      "outputs": [
        {
          "output_type": "stream",
          "text": [
            "It\n",
            "is\n",
            "better\n",
            "to\n",
            "give\n",
            "than\n",
            "recieve\n"
          ],
          "name": "stdout"
        }
      ]
    },
    {
      "cell_type": "code",
      "metadata": {
        "colab": {
          "base_uri": "https://localhost:8080/"
        },
        "id": "aUo8SLiRCcP0",
        "outputId": "9d9242e3-04f0-40a7-83bf-31c49880c11c"
      },
      "source": [
        "doc5[0]"
      ],
      "execution_count": 23,
      "outputs": [
        {
          "output_type": "execute_result",
          "data": {
            "text/plain": [
              "It"
            ]
          },
          "metadata": {
            "tags": []
          },
          "execution_count": 23
        }
      ]
    },
    {
      "cell_type": "code",
      "metadata": {
        "colab": {
          "base_uri": "https://localhost:8080/"
        },
        "id": "TQ4tdW-nCgG7",
        "outputId": "152728fb-36c7-4d30-a616-11f0aa2e7957"
      },
      "source": [
        "doc5[2:5]"
      ],
      "execution_count": 24,
      "outputs": [
        {
          "output_type": "execute_result",
          "data": {
            "text/plain": [
              "better to give"
            ]
          },
          "metadata": {
            "tags": []
          },
          "execution_count": 24
        }
      ]
    },
    {
      "cell_type": "markdown",
      "metadata": {
        "id": "40SWgMw0DCCx"
      },
      "source": [
        "**Tokens cannot be reassign.**"
      ]
    },
    {
      "cell_type": "code",
      "metadata": {
        "colab": {
          "base_uri": "https://localhost:8080/",
          "height": 163
        },
        "id": "KPvDoZxxCiFz",
        "outputId": "b4509526-b9dc-4f5c-f5b3-95ebe8880b48"
      },
      "source": [
        "doc5[0] = 'test'"
      ],
      "execution_count": 25,
      "outputs": [
        {
          "output_type": "error",
          "ename": "TypeError",
          "evalue": "ignored",
          "traceback": [
            "\u001b[0;31m---------------------------------------------------------------------------\u001b[0m",
            "\u001b[0;31mTypeError\u001b[0m                                 Traceback (most recent call last)",
            "\u001b[0;32m<ipython-input-25-9c0b770f31aa>\u001b[0m in \u001b[0;36m<module>\u001b[0;34m()\u001b[0m\n\u001b[0;32m----> 1\u001b[0;31m \u001b[0mdoc5\u001b[0m\u001b[0;34m[\u001b[0m\u001b[0;36m0\u001b[0m\u001b[0;34m]\u001b[0m \u001b[0;34m=\u001b[0m \u001b[0;34m'test'\u001b[0m\u001b[0;34m\u001b[0m\u001b[0;34m\u001b[0m\u001b[0m\n\u001b[0m",
            "\u001b[0;31mTypeError\u001b[0m: 'spacy.tokens.doc.Doc' object does not support item assignment"
          ]
        }
      ]
    },
    {
      "cell_type": "markdown",
      "metadata": {
        "id": "Tmy-wPdHDDf5"
      },
      "source": [
        "**Spacy can understand named entities**"
      ]
    },
    {
      "cell_type": "code",
      "metadata": {
        "id": "f4Ynd29HCxeE"
      },
      "source": [
        "doc8 = nlp(u\"Apple to build a Hong Kong factory for $6 million\")"
      ],
      "execution_count": 35,
      "outputs": []
    },
    {
      "cell_type": "code",
      "metadata": {
        "colab": {
          "base_uri": "https://localhost:8080/"
        },
        "id": "Ymxk5uLMDrGl",
        "outputId": "9c14e107-c6cb-4d45-87c1-f7233b318e69"
      },
      "source": [
        "for token in doc8:\r\n",
        "  print(token.text, end ='  |  ')"
      ],
      "execution_count": 36,
      "outputs": [
        {
          "output_type": "stream",
          "text": [
            "Apple  |  to  |  build  |  a  |  Hong  |  Kong  |  factory  |  for  |  $  |  6  |  million  |  "
          ],
          "name": "stdout"
        }
      ]
    },
    {
      "cell_type": "code",
      "metadata": {
        "colab": {
          "base_uri": "https://localhost:8080/"
        },
        "id": "JuSvgEFpDvED",
        "outputId": "c30f1793-8279-46ef-a1b9-c265c58fdcaf"
      },
      "source": [
        "for entity in doc8.ents:\r\n",
        "  print(entity)\r\n",
        "  print(entity.label_) # entity.label_ tells us that Apple is an Organization, Hong Kong is city and $6 million is money.\r\n",
        "  print(str(spacy.explain(entity.label_)))\r\n",
        "  print('\\n')"
      ],
      "execution_count": 41,
      "outputs": [
        {
          "output_type": "stream",
          "text": [
            "Apple\n",
            "ORG\n",
            "Companies, agencies, institutions, etc.\n",
            "\n",
            "\n",
            "Hong Kong\n",
            "GPE\n",
            "Countries, cities, states\n",
            "\n",
            "\n",
            "$6 million\n",
            "MONEY\n",
            "Monetary values, including unit\n",
            "\n",
            "\n"
          ],
          "name": "stdout"
        }
      ]
    },
    {
      "cell_type": "code",
      "metadata": {
        "id": "wsjuxrKEEPyU"
      },
      "source": [
        "doc9 = nlp(u\"Autonomous cars shift insurance liability towards manufacturers.\")"
      ],
      "execution_count": 42,
      "outputs": []
    },
    {
      "cell_type": "code",
      "metadata": {
        "colab": {
          "base_uri": "https://localhost:8080/"
        },
        "id": "cVMrjgO2F4z0",
        "outputId": "8c002cc1-4820-446b-d5ef-72eb81cc7489"
      },
      "source": [
        "for chunk in doc9.noun_chunks:\r\n",
        "  print(chunk)"
      ],
      "execution_count": 43,
      "outputs": [
        {
          "output_type": "stream",
          "text": [
            "Autonomous cars\n",
            "insurance liability\n",
            "manufacturers\n"
          ],
          "name": "stdout"
        }
      ]
    },
    {
      "cell_type": "code",
      "metadata": {
        "id": "K1pVfDZZGIPt"
      },
      "source": [
        ""
      ],
      "execution_count": null,
      "outputs": []
    }
  ]
}