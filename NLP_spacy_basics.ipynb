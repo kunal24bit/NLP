{
  "nbformat": 4,
  "nbformat_minor": 0,
  "metadata": {
    "colab": {
      "name": "NLP_spacy basics.ipynb",
      "provenance": [],
      "authorship_tag": "ABX9TyP5h7DNLdWxnKoWh6csXpKk"
    },
    "kernelspec": {
      "name": "python3",
      "display_name": "Python 3"
    }
  },
  "cells": [
    {
      "cell_type": "markdown",
      "metadata": {
        "id": "l5Vy9F7j3lii"
      },
      "source": [
        "**What is Natural Language Preocessing?**"
      ]
    },
    {
      "cell_type": "markdown",
      "metadata": {
        "id": "K3OP64Ug3sl5"
      },
      "source": [
        "According to Wikipedia \"NLP is an area of computer science and artificial intelligence concerned with the interactions between computers and humans(natural) languages, in particular how to program computers to process and analyze large amount of natural language data.\"\r\n",
        "\r\n",
        "Often when performing analysis lots of data is numerical, such as sales numbers, physical measurements and quatifiable categories.\r\n",
        "\r\n",
        "Also, computers are good at handling direct numerical computations.\r\n",
        "\r\n",
        "But What we do to **text data**?\r\n",
        "\r\n",
        "As humans we can tell there is a lot of information inside of text documents.\r\n",
        "But a computer needs specialized processing techniques in order to understand raw text data.\r\n",
        "\r\n",
        "Text data is Highly unstructured and can be in multiple languages.\r\n",
        "\r\n",
        "Example use cases:\r\n",
        "\r\n",
        "1. Classifying emails as Spam v/s Legitimate.\r\n",
        "2. Sentiment analysis of text movie reviews.\r\n",
        "3. Understanding text commands, \"Hey google, play the song Naach meri Rani.\""
      ]
    },
    {
      "cell_type": "code",
      "metadata": {
        "id": "ivgFSoIm4bMl"
      },
      "source": [
        "import spacy"
      ],
      "execution_count": 5,
      "outputs": []
    },
    {
      "cell_type": "code",
      "metadata": {
        "id": "Jg8NcWOX870f"
      },
      "source": [
        "nlp = spacy.load('en_core_web_sm')"
      ],
      "execution_count": 6,
      "outputs": []
    },
    {
      "cell_type": "code",
      "metadata": {
        "id": "hf8bL8Se9rJe"
      },
      "source": [
        "doc = nlp(u\"Tesla is looking for buying a U.S. startup for $6 million\")"
      ],
      "execution_count": 7,
      "outputs": []
    },
    {
      "cell_type": "code",
      "metadata": {
        "colab": {
          "base_uri": "https://localhost:8080/"
        },
        "id": "RvTo2HIrKbOB",
        "outputId": "28974fcd-ed67-4e9f-d958-8a05d69627ae"
      },
      "source": [
        "for token in doc:\r\n",
        "  print(token.text, token.pos_, token.dep_)\r\n",
        "\r\n",
        "  #pos stands for part of speech."
      ],
      "execution_count": 14,
      "outputs": [
        {
          "output_type": "stream",
          "text": [
            "Tesla PROPN nsubj\n",
            "is AUX aux\n",
            "looking VERB ROOT\n",
            "for ADP prep\n",
            "buying VERB pcomp\n",
            "a DET det\n",
            "U.S. PROPN compound\n",
            "startup NOUN dobj\n",
            "for ADP prep\n",
            "$ SYM quantmod\n",
            "6 NUM compound\n",
            "million NUM pobj\n"
          ],
          "name": "stdout"
        }
      ]
    },
    {
      "cell_type": "code",
      "metadata": {
        "colab": {
          "base_uri": "https://localhost:8080/"
        },
        "id": "i1sU3KaYKgsP",
        "outputId": "8d9b576d-9aa7-41f7-a438-b56f90f984ba"
      },
      "source": [
        "nlp.pipeline"
      ],
      "execution_count": 15,
      "outputs": [
        {
          "output_type": "execute_result",
          "data": {
            "text/plain": [
              "[('tagger', <spacy.pipeline.pipes.Tagger at 0x7f61698a2290>),\n",
              " ('parser', <spacy.pipeline.pipes.DependencyParser at 0x7f61699e8c20>),\n",
              " ('ner', <spacy.pipeline.pipes.EntityRecognizer at 0x7f61699e8a60>)]"
            ]
          },
          "metadata": {
            "tags": []
          },
          "execution_count": 15
        }
      ]
    },
    {
      "cell_type": "markdown",
      "metadata": {
        "id": "isLHCPU8L-PM"
      },
      "source": [
        "NER stands for name entity recognition."
      ]
    },
    {
      "cell_type": "code",
      "metadata": {
        "colab": {
          "base_uri": "https://localhost:8080/"
        },
        "id": "SLhGYK2FLz0P",
        "outputId": "74375bbb-36d9-49eb-e717-d654abb6a671"
      },
      "source": [
        "nlp.pipe_names"
      ],
      "execution_count": 16,
      "outputs": [
        {
          "output_type": "execute_result",
          "data": {
            "text/plain": [
              "['tagger', 'parser', 'ner']"
            ]
          },
          "metadata": {
            "tags": []
          },
          "execution_count": 16
        }
      ]
    },
    {
      "cell_type": "code",
      "metadata": {
        "id": "6iv9cSxvMQjH"
      },
      "source": [
        "doc2 = nlp(u\"Tesla isn't looking for startups to buy.\")"
      ],
      "execution_count": 17,
      "outputs": []
    },
    {
      "cell_type": "code",
      "metadata": {
        "colab": {
          "base_uri": "https://localhost:8080/"
        },
        "id": "anj-0X0qMmhX",
        "outputId": "926e6f2e-6a6d-40cf-f784-0e36aa8129cf"
      },
      "source": [
        "for token in doc2:\r\n",
        "  print(token.text, token.pos_, token.dep_)\r\n",
        "  "
      ],
      "execution_count": 18,
      "outputs": [
        {
          "output_type": "stream",
          "text": [
            "Tesla PROPN nsubj\n",
            "is AUX aux\n",
            "n't PART neg\n",
            "looking VERB ROOT\n",
            "for ADP mark\n",
            "startups NOUN nsubj\n",
            "to PART aux\n",
            "buy VERB advcl\n",
            ". PUNCT punct\n"
          ],
          "name": "stdout"
        }
      ]
    },
    {
      "cell_type": "code",
      "metadata": {
        "colab": {
          "base_uri": "https://localhost:8080/",
          "height": 35
        },
        "id": "hgjxINjlMrVG",
        "outputId": "9e57d52b-ebfb-42bb-991a-498fea8cd491"
      },
      "source": [
        "doc2[0].pos_"
      ],
      "execution_count": 20,
      "outputs": [
        {
          "output_type": "execute_result",
          "data": {
            "application/vnd.google.colaboratory.intrinsic+json": {
              "type": "string"
            },
            "text/plain": [
              "'PROPN'"
            ]
          },
          "metadata": {
            "tags": []
          },
          "execution_count": 20
        }
      ]
    },
    {
      "cell_type": "code",
      "metadata": {
        "colab": {
          "base_uri": "https://localhost:8080/",
          "height": 35
        },
        "id": "Utx9AqfuOOMv",
        "outputId": "a80ab2cd-f603-4f83-a8d6-b93f5b070b98"
      },
      "source": [
        "doc2[0].dep_"
      ],
      "execution_count": 22,
      "outputs": [
        {
          "output_type": "execute_result",
          "data": {
            "application/vnd.google.colaboratory.intrinsic+json": {
              "type": "string"
            },
            "text/plain": [
              "'nsubj'"
            ]
          },
          "metadata": {
            "tags": []
          },
          "execution_count": 22
        }
      ]
    },
    {
      "cell_type": "code",
      "metadata": {
        "colab": {
          "base_uri": "https://localhost:8080/",
          "height": 35
        },
        "id": "MdyFxumWOS8n",
        "outputId": "6b96a1ff-8ca4-4953-d73a-82a714d1dfee"
      },
      "source": [
        "doc2[0].tag_"
      ],
      "execution_count": 23,
      "outputs": [
        {
          "output_type": "execute_result",
          "data": {
            "application/vnd.google.colaboratory.intrinsic+json": {
              "type": "string"
            },
            "text/plain": [
              "'NNP'"
            ]
          },
          "metadata": {
            "tags": []
          },
          "execution_count": 23
        }
      ]
    },
    {
      "cell_type": "code",
      "metadata": {
        "colab": {
          "base_uri": "https://localhost:8080/",
          "height": 35
        },
        "id": "IiUqtxQUOa-P",
        "outputId": "326a5e7f-6dc6-40b6-89b3-70a99e9ebe65"
      },
      "source": [
        "doc2[0].shape_"
      ],
      "execution_count": 24,
      "outputs": [
        {
          "output_type": "execute_result",
          "data": {
            "application/vnd.google.colaboratory.intrinsic+json": {
              "type": "string"
            },
            "text/plain": [
              "'Xxxxx'"
            ]
          },
          "metadata": {
            "tags": []
          },
          "execution_count": 24
        }
      ]
    },
    {
      "cell_type": "markdown",
      "metadata": {
        "id": "Xt8Prg7nU7xG"
      },
      "source": [
        "**Span**"
      ]
    },
    {
      "cell_type": "code",
      "metadata": {
        "id": "UToP5g60VAhl"
      },
      "source": [
        "doc3 = nlp(u\"Machinelearning is the art of making machine to learn without being explicitly programme. There are many algorithms in the literature available. Machine learning algoare of three types supervised, unsupervised and reinforcement. Supervised learning have labels on their exmaples but unsupervised learning has no labels. Supervised learning are of two types Regression and Classification.\")"
      ],
      "execution_count": 31,
      "outputs": []
    },
    {
      "cell_type": "code",
      "metadata": {
        "id": "ZBvSQBFoVItO"
      },
      "source": [
        "life_quote = doc3[16:30]"
      ],
      "execution_count": 32,
      "outputs": []
    },
    {
      "cell_type": "code",
      "metadata": {
        "colab": {
          "base_uri": "https://localhost:8080/"
        },
        "id": "WiNEhiYDY03v",
        "outputId": "cac827c8-8092-4780-bf0d-1e0bef6bb3ea"
      },
      "source": [
        "life_quote"
      ],
      "execution_count": 34,
      "outputs": [
        {
          "output_type": "execute_result",
          "data": {
            "text/plain": [
              "many algorithms in the literature available. Machine learning algoare of three types supervised"
            ]
          },
          "metadata": {
            "tags": []
          },
          "execution_count": 34
        }
      ]
    },
    {
      "cell_type": "markdown",
      "metadata": {
        "id": "NcoSKeUAY_kV"
      },
      "source": [
        "So this is the spans of overall document. As the document is large and we are interested in this particular line."
      ]
    },
    {
      "cell_type": "code",
      "metadata": {
        "colab": {
          "base_uri": "https://localhost:8080/"
        },
        "id": "ZZwFbm20ZCPf",
        "outputId": "311e8704-e32f-4116-acfd-71461edd91bd"
      },
      "source": [
        "type(life_quote)"
      ],
      "execution_count": 35,
      "outputs": [
        {
          "output_type": "execute_result",
          "data": {
            "text/plain": [
              "spacy.tokens.span.Span"
            ]
          },
          "metadata": {
            "tags": []
          },
          "execution_count": 35
        }
      ]
    },
    {
      "cell_type": "markdown",
      "metadata": {
        "id": "KUiQUj0PZU9r"
      },
      "source": [
        "Spacy is smart enough to know that varibale life_quote conains a slice of document."
      ]
    },
    {
      "cell_type": "markdown",
      "metadata": {
        "id": "Y3l44kE1ajNt"
      },
      "source": [
        "**Taking out Sentence from a document.**"
      ]
    },
    {
      "cell_type": "code",
      "metadata": {
        "id": "BAaVlQfNZc7e"
      },
      "source": [
        "doc4 = nlp(u\"This is the first sentence. This is the another sentence. This is the last sentence.\")"
      ],
      "execution_count": 36,
      "outputs": []
    },
    {
      "cell_type": "code",
      "metadata": {
        "colab": {
          "base_uri": "https://localhost:8080/"
        },
        "id": "TWBvFGA2aNcH",
        "outputId": "be5c47a5-a0d5-4f26-d68b-e199ab4f8fba"
      },
      "source": [
        "for sentence in doc4.sents:\r\n",
        "  print(sentence)"
      ],
      "execution_count": 37,
      "outputs": [
        {
          "output_type": "stream",
          "text": [
            "This is the first sentence.\n",
            "This is the another sentence.\n",
            "This is the last sentence.\n"
          ],
          "name": "stdout"
        }
      ]
    },
    {
      "cell_type": "code",
      "metadata": {
        "colab": {
          "base_uri": "https://localhost:8080/"
        },
        "id": "XO7Y_pexahB2",
        "outputId": "79a46901-7175-4f72-c66e-789d2fd737de"
      },
      "source": [
        "#To check whether the position of text is the starting of a sentence\r\n",
        "\r\n",
        "doc4[6].is_sent_start"
      ],
      "execution_count": 40,
      "outputs": [
        {
          "output_type": "execute_result",
          "data": {
            "text/plain": [
              "True"
            ]
          },
          "metadata": {
            "tags": []
          },
          "execution_count": 40
        }
      ]
    },
    {
      "cell_type": "code",
      "metadata": {
        "id": "SL5MLPi-bTcB"
      },
      "source": [
        ""
      ],
      "execution_count": null,
      "outputs": []
    }
  ]
}