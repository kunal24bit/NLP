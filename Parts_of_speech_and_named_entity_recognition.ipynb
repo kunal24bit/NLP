{
  "nbformat": 4,
  "nbformat_minor": 0,
  "metadata": {
    "colab": {
      "name": "Parts of speech and named entity recognition.ipynb",
      "provenance": [],
      "authorship_tag": "ABX9TyNvd2xrMnNFDAbu8TlJ9kKT",
      "include_colab_link": true
    },
    "kernelspec": {
      "name": "python3",
      "display_name": "Python 3"
    }
  },
  "cells": [
    {
      "cell_type": "markdown",
      "metadata": {
        "id": "view-in-github",
        "colab_type": "text"
      },
      "source": [
        "<a href=\"https://colab.research.google.com/github/kunal24bit/NLP/blob/main/Parts_of_speech_and_named_entity_recognition.ipynb\" target=\"_parent\"><img src=\"https://colab.research.google.com/assets/colab-badge.svg\" alt=\"Open In Colab\"/></a>"
      ]
    },
    {
      "cell_type": "markdown",
      "metadata": {
        "id": "P8vlRbWpaSxJ"
      },
      "source": [
        "**Parts of Speech basics**\r\n",
        "\r\n",
        "Most words are rare and its common for words that look completely different to mean almostthe same thing.\r\n",
        "The same words in different order can mean something completely different.\r\n",
        "\r\n",
        "Even spliiting text in to useful words like units can be difficult in many languages. While its possible to solve some problems starting from only the raw characters, its usually better to use linguistic knowledge to add useful information."
      ]
    },
    {
      "cell_type": "code",
      "metadata": {
        "id": "74GNOxPbaWNc"
      },
      "source": [
        "import spacy"
      ],
      "execution_count": 56,
      "outputs": []
    },
    {
      "cell_type": "code",
      "metadata": {
        "id": "BeCejTbaNS5e"
      },
      "source": [
        "nlp = spacy.load(\"en_core_web_sm\")"
      ],
      "execution_count": 57,
      "outputs": []
    },
    {
      "cell_type": "code",
      "metadata": {
        "id": "QUgTfAiUNWgc"
      },
      "source": [
        "doc = nlp(u\"The quick brown fox jumped over the lazy dog's back\")"
      ],
      "execution_count": 58,
      "outputs": []
    },
    {
      "cell_type": "code",
      "metadata": {
        "colab": {
          "base_uri": "https://localhost:8080/"
        },
        "id": "tvzgSAXBNeHU",
        "outputId": "98d54c49-355d-48ed-83d2-e0be7f663959"
      },
      "source": [
        "print(doc.text)"
      ],
      "execution_count": 59,
      "outputs": [
        {
          "output_type": "stream",
          "text": [
            "The quick brown fox jumped over the lazy dog's back\n"
          ],
          "name": "stdout"
        }
      ]
    },
    {
      "cell_type": "code",
      "metadata": {
        "colab": {
          "base_uri": "https://localhost:8080/"
        },
        "id": "_iaZXex_Nljk",
        "outputId": "937b0afa-1dee-43be-f0af-b8f09d704634"
      },
      "source": [
        "print(doc[4].tag_)"
      ],
      "execution_count": 60,
      "outputs": [
        {
          "output_type": "stream",
          "text": [
            "VBD\n"
          ],
          "name": "stdout"
        }
      ]
    },
    {
      "cell_type": "code",
      "metadata": {
        "colab": {
          "base_uri": "https://localhost:8080/"
        },
        "id": "Gd9RzkV4Nt5c",
        "outputId": "9e14b760-08b3-40f8-ec9d-4992ab0eb69c"
      },
      "source": [
        "print(doc[4].pos_)"
      ],
      "execution_count": 61,
      "outputs": [
        {
          "output_type": "stream",
          "text": [
            "VERB\n"
          ],
          "name": "stdout"
        }
      ]
    },
    {
      "cell_type": "code",
      "metadata": {
        "colab": {
          "base_uri": "https://localhost:8080/"
        },
        "id": "bEujJZEKN08U",
        "outputId": "ede35945-3c10-4af8-8fba-d9c1376ce98a"
      },
      "source": [
        "for token in doc:\r\n",
        "  print(f\"{token.text:{10}} {token.tag_:{10}}{token.pos_:{10}} {spacy.explain(token.tag_)}\")"
      ],
      "execution_count": 62,
      "outputs": [
        {
          "output_type": "stream",
          "text": [
            "The        DT        DET        determiner\n",
            "quick      JJ        ADJ        adjective\n",
            "brown      JJ        ADJ        adjective\n",
            "fox        NN        NOUN       noun, singular or mass\n",
            "jumped     VBD       VERB       verb, past tense\n",
            "over       IN        ADP        conjunction, subordinating or preposition\n",
            "the        DT        DET        determiner\n",
            "lazy       JJ        ADJ        adjective\n",
            "dog        NN        NOUN       noun, singular or mass\n",
            "'s         POS       PART       possessive ending\n",
            "back       NN        NOUN       noun, singular or mass\n"
          ],
          "name": "stdout"
        }
      ]
    },
    {
      "cell_type": "markdown",
      "metadata": {
        "id": "U8qI3emgPtT8"
      },
      "source": [
        "Spacy is smart to differentiate between the past tense and present tense"
      ]
    },
    {
      "cell_type": "code",
      "metadata": {
        "id": "kUO-TmdOPzCu"
      },
      "source": [
        "doc1 = nlp(u\"I read a book on NLP.\")"
      ],
      "execution_count": 66,
      "outputs": []
    },
    {
      "cell_type": "code",
      "metadata": {
        "colab": {
          "base_uri": "https://localhost:8080/",
          "height": 35
        },
        "id": "GFN1jw_SP4Z9",
        "outputId": "31813eb0-ab1a-4a55-c56b-d3b468cddb49"
      },
      "source": [
        "word =  doc1[1]\r\n",
        "\r\n",
        "token = word\r\n",
        "\r\n",
        "token.text"
      ],
      "execution_count": 67,
      "outputs": [
        {
          "output_type": "execute_result",
          "data": {
            "application/vnd.google.colaboratory.intrinsic+json": {
              "type": "string"
            },
            "text/plain": [
              "'read'"
            ]
          },
          "metadata": {
            "tags": []
          },
          "execution_count": 67
        }
      ]
    },
    {
      "cell_type": "code",
      "metadata": {
        "colab": {
          "base_uri": "https://localhost:8080/"
        },
        "id": "2BcUcjH8P7dd",
        "outputId": "e01860df-5394-4299-ecf5-d51383cbc7d8"
      },
      "source": [
        "print(f\"{token.text:{10}} {token.tag_:{10}}{token.pos_:{10}} {spacy.explain(token.tag_)}\")"
      ],
      "execution_count": 68,
      "outputs": [
        {
          "output_type": "stream",
          "text": [
            "read       VBD       VERB       verb, past tense\n"
          ],
          "name": "stdout"
        }
      ]
    },
    {
      "cell_type": "code",
      "metadata": {
        "id": "m17e8JBLQOjF"
      },
      "source": [
        "doc2 = nlp(u\"I am reading a book on NLP\")"
      ],
      "execution_count": 69,
      "outputs": []
    },
    {
      "cell_type": "code",
      "metadata": {
        "id": "0D_ZjVCES1F-"
      },
      "source": [
        "word = doc2[2]"
      ],
      "execution_count": 70,
      "outputs": []
    },
    {
      "cell_type": "code",
      "metadata": {
        "colab": {
          "base_uri": "https://localhost:8080/"
        },
        "id": "V4CD-H3JS3Ht",
        "outputId": "a56bc79f-b679-4dd8-bc75-671dfe881afd"
      },
      "source": [
        "token = word\r\n",
        "print(f\"{token.text:{10}} {token.tag_:{10}}{token.pos_:{10}} {spacy.explain(token.tag_)}\")"
      ],
      "execution_count": 71,
      "outputs": [
        {
          "output_type": "stream",
          "text": [
            "reading    VBG       VERB       verb, gerund or present participle\n"
          ],
          "name": "stdout"
        }
      ]
    },
    {
      "cell_type": "markdown",
      "metadata": {
        "id": "gwcSWlpRXkvV"
      },
      "source": [
        "Counting Parts of Speech in DOC"
      ]
    },
    {
      "cell_type": "code",
      "metadata": {
        "id": "dcesu8GzS5v9"
      },
      "source": [
        "POS_counts = doc.count_by(spacy.attrs.POS)"
      ],
      "execution_count": 79,
      "outputs": []
    },
    {
      "cell_type": "code",
      "metadata": {
        "colab": {
          "base_uri": "https://localhost:8080/"
        },
        "id": "aue3tua1XxG2",
        "outputId": "651c6086-20d3-49e0-9d4c-e10d50342b72"
      },
      "source": [
        "POS_counts"
      ],
      "execution_count": 81,
      "outputs": [
        {
          "output_type": "execute_result",
          "data": {
            "text/plain": [
              "{84: 3, 85: 1, 90: 2, 92: 3, 94: 1, 100: 1}"
            ]
          },
          "metadata": {
            "tags": []
          },
          "execution_count": 81
        }
      ]
    },
    {
      "cell_type": "code",
      "metadata": {
        "colab": {
          "base_uri": "https://localhost:8080/"
        },
        "id": "Jh04GAktX5A-",
        "outputId": "102380b3-8398-426a-e0c3-7a65358b5972"
      },
      "source": [
        "for k,v in sorted(POS_counts.items()):\r\n",
        "  print(f\"{k}. {doc.vocab[k].text:{5}} {v}\")"
      ],
      "execution_count": 84,
      "outputs": [
        {
          "output_type": "stream",
          "text": [
            "84. ADJ   3\n",
            "85. ADP   1\n",
            "90. DET   2\n",
            "92. NOUN  3\n",
            "94. PART  1\n",
            "100. VERB  1\n"
          ],
          "name": "stdout"
        }
      ]
    },
    {
      "cell_type": "code",
      "metadata": {
        "id": "e4K4IkV7YyH_"
      },
      "source": [
        "TAG_counts = doc.count_by(spacy.attrs.TAG)\r\n"
      ],
      "execution_count": 85,
      "outputs": []
    },
    {
      "cell_type": "code",
      "metadata": {
        "colab": {
          "base_uri": "https://localhost:8080/"
        },
        "id": "KR-Lt4lQZWtw",
        "outputId": "d90ad999-6f83-448c-8201-decce57e094c"
      },
      "source": [
        "for k,v in sorted(TAG_counts.items()):\r\n",
        "  print(f\"{k:{24}}. {doc.vocab[k].text:{10}} {v}\")"
      ],
      "execution_count": 92,
      "outputs": [
        {
          "output_type": "stream",
          "text": [
            "                      74. POS        1\n",
            "     1292078113972184607. IN         1\n",
            "    10554686591937588953. JJ         3\n",
            "    15267657372422890137. DT         2\n",
            "    15308085513773655218. NN         3\n",
            "    17109001835818727656. VBD        1\n"
          ],
          "name": "stdout"
        }
      ]
    },
    {
      "cell_type": "markdown",
      "metadata": {
        "id": "yPl89_DKbIz-"
      },
      "source": [
        "**Why did the ID numbers get so big?**\r\n",
        "\r\n",
        " In spaCy, certain text values are hardcoded into Doc.vocab and take up the first several hundred ID numbers. Strings like ‘NOUN’ and ‘VERB’ are used frequently by internal operations. Others, like fine-grained tags, are assigned hash values as needed."
      ]
    },
    {
      "cell_type": "markdown",
      "metadata": {
        "id": "hL-LgBZEbgLt"
      },
      "source": [
        "**Visulizing parts of speech**"
      ]
    },
    {
      "cell_type": "code",
      "metadata": {
        "id": "NzPNRHKfbk1P"
      },
      "source": [
        "from spacy import displacy"
      ],
      "execution_count": 94,
      "outputs": []
    },
    {
      "cell_type": "markdown",
      "metadata": {
        "id": "-qElbrbddHgv"
      },
      "source": [
        ""
      ]
    },
    {
      "cell_type": "code",
      "metadata": {
        "colab": {
          "base_uri": "https://localhost:8080/",
          "height": 293
        },
        "id": "MgpP9jIQbtPX",
        "outputId": "7b4d1eee-c9fc-4634-b802-732bd785ac05"
      },
      "source": [
        "displacy.render(doc, style='dep', jupyter = True, options={\"distance\":90})"
      ],
      "execution_count": 107,
      "outputs": [
        {
          "output_type": "display_data",
          "data": {
            "text/html": [
              "<span class=\"tex2jax_ignore\"><svg xmlns=\"http://www.w3.org/2000/svg\" xmlns:xlink=\"http://www.w3.org/1999/xlink\" xml:lang=\"en\" id=\"c09bbfa978de4b99b04ccfa728740ce1-0\" class=\"displacy\" width=\"1040\" height=\"272.0\" direction=\"ltr\" style=\"max-width: none; height: 272.0px; color: #000000; background: #ffffff; font-family: Arial; direction: ltr\">\n",
              "<text class=\"displacy-token\" fill=\"currentColor\" text-anchor=\"middle\" y=\"182.0\">\n",
              "    <tspan class=\"displacy-word\" fill=\"currentColor\" x=\"50\">The</tspan>\n",
              "    <tspan class=\"displacy-tag\" dy=\"2em\" fill=\"currentColor\" x=\"50\">DET</tspan>\n",
              "</text>\n",
              "\n",
              "<text class=\"displacy-token\" fill=\"currentColor\" text-anchor=\"middle\" y=\"182.0\">\n",
              "    <tspan class=\"displacy-word\" fill=\"currentColor\" x=\"140\">quick</tspan>\n",
              "    <tspan class=\"displacy-tag\" dy=\"2em\" fill=\"currentColor\" x=\"140\">ADJ</tspan>\n",
              "</text>\n",
              "\n",
              "<text class=\"displacy-token\" fill=\"currentColor\" text-anchor=\"middle\" y=\"182.0\">\n",
              "    <tspan class=\"displacy-word\" fill=\"currentColor\" x=\"230\">brown</tspan>\n",
              "    <tspan class=\"displacy-tag\" dy=\"2em\" fill=\"currentColor\" x=\"230\">ADJ</tspan>\n",
              "</text>\n",
              "\n",
              "<text class=\"displacy-token\" fill=\"currentColor\" text-anchor=\"middle\" y=\"182.0\">\n",
              "    <tspan class=\"displacy-word\" fill=\"currentColor\" x=\"320\">fox</tspan>\n",
              "    <tspan class=\"displacy-tag\" dy=\"2em\" fill=\"currentColor\" x=\"320\">NOUN</tspan>\n",
              "</text>\n",
              "\n",
              "<text class=\"displacy-token\" fill=\"currentColor\" text-anchor=\"middle\" y=\"182.0\">\n",
              "    <tspan class=\"displacy-word\" fill=\"currentColor\" x=\"410\">jumped</tspan>\n",
              "    <tspan class=\"displacy-tag\" dy=\"2em\" fill=\"currentColor\" x=\"410\">VERB</tspan>\n",
              "</text>\n",
              "\n",
              "<text class=\"displacy-token\" fill=\"currentColor\" text-anchor=\"middle\" y=\"182.0\">\n",
              "    <tspan class=\"displacy-word\" fill=\"currentColor\" x=\"500\">over</tspan>\n",
              "    <tspan class=\"displacy-tag\" dy=\"2em\" fill=\"currentColor\" x=\"500\">ADP</tspan>\n",
              "</text>\n",
              "\n",
              "<text class=\"displacy-token\" fill=\"currentColor\" text-anchor=\"middle\" y=\"182.0\">\n",
              "    <tspan class=\"displacy-word\" fill=\"currentColor\" x=\"590\">the</tspan>\n",
              "    <tspan class=\"displacy-tag\" dy=\"2em\" fill=\"currentColor\" x=\"590\">DET</tspan>\n",
              "</text>\n",
              "\n",
              "<text class=\"displacy-token\" fill=\"currentColor\" text-anchor=\"middle\" y=\"182.0\">\n",
              "    <tspan class=\"displacy-word\" fill=\"currentColor\" x=\"680\">lazy</tspan>\n",
              "    <tspan class=\"displacy-tag\" dy=\"2em\" fill=\"currentColor\" x=\"680\">ADJ</tspan>\n",
              "</text>\n",
              "\n",
              "<text class=\"displacy-token\" fill=\"currentColor\" text-anchor=\"middle\" y=\"182.0\">\n",
              "    <tspan class=\"displacy-word\" fill=\"currentColor\" x=\"770\">dog</tspan>\n",
              "    <tspan class=\"displacy-tag\" dy=\"2em\" fill=\"currentColor\" x=\"770\">NOUN</tspan>\n",
              "</text>\n",
              "\n",
              "<text class=\"displacy-token\" fill=\"currentColor\" text-anchor=\"middle\" y=\"182.0\">\n",
              "    <tspan class=\"displacy-word\" fill=\"currentColor\" x=\"860\">'s</tspan>\n",
              "    <tspan class=\"displacy-tag\" dy=\"2em\" fill=\"currentColor\" x=\"860\">PART</tspan>\n",
              "</text>\n",
              "\n",
              "<text class=\"displacy-token\" fill=\"currentColor\" text-anchor=\"middle\" y=\"182.0\">\n",
              "    <tspan class=\"displacy-word\" fill=\"currentColor\" x=\"950\">back</tspan>\n",
              "    <tspan class=\"displacy-tag\" dy=\"2em\" fill=\"currentColor\" x=\"950\">NOUN</tspan>\n",
              "</text>\n",
              "\n",
              "<g class=\"displacy-arrow\">\n",
              "    <path class=\"displacy-arc\" id=\"arrow-c09bbfa978de4b99b04ccfa728740ce1-0-0\" stroke-width=\"2px\" d=\"M70,137.0 C70,2.0 320.0,2.0 320.0,137.0\" fill=\"none\" stroke=\"currentColor\"/>\n",
              "    <text dy=\"1.25em\" style=\"font-size: 0.8em; letter-spacing: 1px\">\n",
              "        <textPath xlink:href=\"#arrow-c09bbfa978de4b99b04ccfa728740ce1-0-0\" class=\"displacy-label\" startOffset=\"50%\" side=\"left\" fill=\"currentColor\" text-anchor=\"middle\">det</textPath>\n",
              "    </text>\n",
              "    <path class=\"displacy-arrowhead\" d=\"M70,139.0 L62,127.0 78,127.0\" fill=\"currentColor\"/>\n",
              "</g>\n",
              "\n",
              "<g class=\"displacy-arrow\">\n",
              "    <path class=\"displacy-arc\" id=\"arrow-c09bbfa978de4b99b04ccfa728740ce1-0-1\" stroke-width=\"2px\" d=\"M160,137.0 C160,47.0 315.0,47.0 315.0,137.0\" fill=\"none\" stroke=\"currentColor\"/>\n",
              "    <text dy=\"1.25em\" style=\"font-size: 0.8em; letter-spacing: 1px\">\n",
              "        <textPath xlink:href=\"#arrow-c09bbfa978de4b99b04ccfa728740ce1-0-1\" class=\"displacy-label\" startOffset=\"50%\" side=\"left\" fill=\"currentColor\" text-anchor=\"middle\">amod</textPath>\n",
              "    </text>\n",
              "    <path class=\"displacy-arrowhead\" d=\"M160,139.0 L152,127.0 168,127.0\" fill=\"currentColor\"/>\n",
              "</g>\n",
              "\n",
              "<g class=\"displacy-arrow\">\n",
              "    <path class=\"displacy-arc\" id=\"arrow-c09bbfa978de4b99b04ccfa728740ce1-0-2\" stroke-width=\"2px\" d=\"M250,137.0 C250,92.0 310.0,92.0 310.0,137.0\" fill=\"none\" stroke=\"currentColor\"/>\n",
              "    <text dy=\"1.25em\" style=\"font-size: 0.8em; letter-spacing: 1px\">\n",
              "        <textPath xlink:href=\"#arrow-c09bbfa978de4b99b04ccfa728740ce1-0-2\" class=\"displacy-label\" startOffset=\"50%\" side=\"left\" fill=\"currentColor\" text-anchor=\"middle\">amod</textPath>\n",
              "    </text>\n",
              "    <path class=\"displacy-arrowhead\" d=\"M250,139.0 L242,127.0 258,127.0\" fill=\"currentColor\"/>\n",
              "</g>\n",
              "\n",
              "<g class=\"displacy-arrow\">\n",
              "    <path class=\"displacy-arc\" id=\"arrow-c09bbfa978de4b99b04ccfa728740ce1-0-3\" stroke-width=\"2px\" d=\"M340,137.0 C340,92.0 400.0,92.0 400.0,137.0\" fill=\"none\" stroke=\"currentColor\"/>\n",
              "    <text dy=\"1.25em\" style=\"font-size: 0.8em; letter-spacing: 1px\">\n",
              "        <textPath xlink:href=\"#arrow-c09bbfa978de4b99b04ccfa728740ce1-0-3\" class=\"displacy-label\" startOffset=\"50%\" side=\"left\" fill=\"currentColor\" text-anchor=\"middle\">nsubj</textPath>\n",
              "    </text>\n",
              "    <path class=\"displacy-arrowhead\" d=\"M340,139.0 L332,127.0 348,127.0\" fill=\"currentColor\"/>\n",
              "</g>\n",
              "\n",
              "<g class=\"displacy-arrow\">\n",
              "    <path class=\"displacy-arc\" id=\"arrow-c09bbfa978de4b99b04ccfa728740ce1-0-4\" stroke-width=\"2px\" d=\"M430,137.0 C430,92.0 490.0,92.0 490.0,137.0\" fill=\"none\" stroke=\"currentColor\"/>\n",
              "    <text dy=\"1.25em\" style=\"font-size: 0.8em; letter-spacing: 1px\">\n",
              "        <textPath xlink:href=\"#arrow-c09bbfa978de4b99b04ccfa728740ce1-0-4\" class=\"displacy-label\" startOffset=\"50%\" side=\"left\" fill=\"currentColor\" text-anchor=\"middle\">prep</textPath>\n",
              "    </text>\n",
              "    <path class=\"displacy-arrowhead\" d=\"M490.0,139.0 L498.0,127.0 482.0,127.0\" fill=\"currentColor\"/>\n",
              "</g>\n",
              "\n",
              "<g class=\"displacy-arrow\">\n",
              "    <path class=\"displacy-arc\" id=\"arrow-c09bbfa978de4b99b04ccfa728740ce1-0-5\" stroke-width=\"2px\" d=\"M610,137.0 C610,47.0 765.0,47.0 765.0,137.0\" fill=\"none\" stroke=\"currentColor\"/>\n",
              "    <text dy=\"1.25em\" style=\"font-size: 0.8em; letter-spacing: 1px\">\n",
              "        <textPath xlink:href=\"#arrow-c09bbfa978de4b99b04ccfa728740ce1-0-5\" class=\"displacy-label\" startOffset=\"50%\" side=\"left\" fill=\"currentColor\" text-anchor=\"middle\">det</textPath>\n",
              "    </text>\n",
              "    <path class=\"displacy-arrowhead\" d=\"M610,139.0 L602,127.0 618,127.0\" fill=\"currentColor\"/>\n",
              "</g>\n",
              "\n",
              "<g class=\"displacy-arrow\">\n",
              "    <path class=\"displacy-arc\" id=\"arrow-c09bbfa978de4b99b04ccfa728740ce1-0-6\" stroke-width=\"2px\" d=\"M700,137.0 C700,92.0 760.0,92.0 760.0,137.0\" fill=\"none\" stroke=\"currentColor\"/>\n",
              "    <text dy=\"1.25em\" style=\"font-size: 0.8em; letter-spacing: 1px\">\n",
              "        <textPath xlink:href=\"#arrow-c09bbfa978de4b99b04ccfa728740ce1-0-6\" class=\"displacy-label\" startOffset=\"50%\" side=\"left\" fill=\"currentColor\" text-anchor=\"middle\">amod</textPath>\n",
              "    </text>\n",
              "    <path class=\"displacy-arrowhead\" d=\"M700,139.0 L692,127.0 708,127.0\" fill=\"currentColor\"/>\n",
              "</g>\n",
              "\n",
              "<g class=\"displacy-arrow\">\n",
              "    <path class=\"displacy-arc\" id=\"arrow-c09bbfa978de4b99b04ccfa728740ce1-0-7\" stroke-width=\"2px\" d=\"M520,137.0 C520,2.0 770.0,2.0 770.0,137.0\" fill=\"none\" stroke=\"currentColor\"/>\n",
              "    <text dy=\"1.25em\" style=\"font-size: 0.8em; letter-spacing: 1px\">\n",
              "        <textPath xlink:href=\"#arrow-c09bbfa978de4b99b04ccfa728740ce1-0-7\" class=\"displacy-label\" startOffset=\"50%\" side=\"left\" fill=\"currentColor\" text-anchor=\"middle\">pobj</textPath>\n",
              "    </text>\n",
              "    <path class=\"displacy-arrowhead\" d=\"M770.0,139.0 L778.0,127.0 762.0,127.0\" fill=\"currentColor\"/>\n",
              "</g>\n",
              "\n",
              "<g class=\"displacy-arrow\">\n",
              "    <path class=\"displacy-arc\" id=\"arrow-c09bbfa978de4b99b04ccfa728740ce1-0-8\" stroke-width=\"2px\" d=\"M790,137.0 C790,92.0 850.0,92.0 850.0,137.0\" fill=\"none\" stroke=\"currentColor\"/>\n",
              "    <text dy=\"1.25em\" style=\"font-size: 0.8em; letter-spacing: 1px\">\n",
              "        <textPath xlink:href=\"#arrow-c09bbfa978de4b99b04ccfa728740ce1-0-8\" class=\"displacy-label\" startOffset=\"50%\" side=\"left\" fill=\"currentColor\" text-anchor=\"middle\">case</textPath>\n",
              "    </text>\n",
              "    <path class=\"displacy-arrowhead\" d=\"M850.0,139.0 L858.0,127.0 842.0,127.0\" fill=\"currentColor\"/>\n",
              "</g>\n",
              "\n",
              "<g class=\"displacy-arrow\">\n",
              "    <path class=\"displacy-arc\" id=\"arrow-c09bbfa978de4b99b04ccfa728740ce1-0-9\" stroke-width=\"2px\" d=\"M790,137.0 C790,47.0 945.0,47.0 945.0,137.0\" fill=\"none\" stroke=\"currentColor\"/>\n",
              "    <text dy=\"1.25em\" style=\"font-size: 0.8em; letter-spacing: 1px\">\n",
              "        <textPath xlink:href=\"#arrow-c09bbfa978de4b99b04ccfa728740ce1-0-9\" class=\"displacy-label\" startOffset=\"50%\" side=\"left\" fill=\"currentColor\" text-anchor=\"middle\">advmod</textPath>\n",
              "    </text>\n",
              "    <path class=\"displacy-arrowhead\" d=\"M945.0,139.0 L953.0,127.0 937.0,127.0\" fill=\"currentColor\"/>\n",
              "</g>\n",
              "</svg></span>"
            ],
            "text/plain": [
              "<IPython.core.display.HTML object>"
            ]
          },
          "metadata": {
            "tags": []
          }
        }
      ]
    },
    {
      "cell_type": "markdown",
      "metadata": {
        "id": "VnHujFZ9dIhO"
      },
      "source": [
        "**Named Entity Recognition**\r\n",
        "\r\n",
        "NER seeks to locate and classify named entity mention in unstructured texts into pre defined categories such as the person names, organizations, locations, medical codes, time expressions, quatities, monetary values percentage etc.\r\n",
        "\r\n",
        "Our goal is to read raw text such as:\r\n",
        "\r\n",
        "\r\n",
        "*   Jim bought 300 shares of Acme corp. in 2006\r\n",
        "*   [Jim]_person bought 300 shares of [Acme Corp]_Organization in [2006]_time.\r\n"
      ]
    },
    {
      "cell_type": "code",
      "metadata": {
        "id": "zEkkHQ3aeeMU"
      },
      "source": [
        "def show_ents(doc):\r\n",
        "  if doc.ents:\r\n",
        "    for ent in doc.ents:\r\n",
        "      print(ent.text +'  -  ' + ent.label_ + '  -  ' + str(spacy.explain(ent.label_)))\r\n",
        "  else:\r\n",
        "    print(\"No entities found\")"
      ],
      "execution_count": 115,
      "outputs": []
    },
    {
      "cell_type": "code",
      "metadata": {
        "id": "75YXVUjKcw4x"
      },
      "source": [
        "doc = nlp(u\"Hi, how are you?\")"
      ],
      "execution_count": 116,
      "outputs": []
    },
    {
      "cell_type": "code",
      "metadata": {
        "colab": {
          "base_uri": "https://localhost:8080/"
        },
        "id": "2i2Q0hkkhScy",
        "outputId": "02bbe152-8bfe-4e07-aecb-c5d698626af1"
      },
      "source": [
        "show_ents(doc)"
      ],
      "execution_count": 117,
      "outputs": [
        {
          "output_type": "stream",
          "text": [
            "No entities found\n"
          ],
          "name": "stdout"
        }
      ]
    },
    {
      "cell_type": "code",
      "metadata": {
        "id": "vdRklZpFhVBp"
      },
      "source": [
        "doc = nlp(u\"may I got to Washington D.C. next may to see the Washington Monument\")"
      ],
      "execution_count": 123,
      "outputs": []
    },
    {
      "cell_type": "code",
      "metadata": {
        "colab": {
          "base_uri": "https://localhost:8080/"
        },
        "id": "lNgndFw1hnS4",
        "outputId": "01d2d790-88a6-4f58-9bff-074855960175"
      },
      "source": [
        "show_ents(doc)"
      ],
      "execution_count": 124,
      "outputs": [
        {
          "output_type": "stream",
          "text": [
            "Washington D.C.  -  GPE  -  Countries, cities, states\n",
            "next may  -  DATE  -  Absolute or relative dates or periods\n",
            "Washington  -  GPE  -  Countries, cities, states\n"
          ],
          "name": "stdout"
        }
      ]
    },
    {
      "cell_type": "code",
      "metadata": {
        "id": "CRUAr5cahqpH"
      },
      "source": [
        "doc = nlp(u\"Can I please have 500 dollars of Microsoft stock?\")"
      ],
      "execution_count": 125,
      "outputs": []
    },
    {
      "cell_type": "code",
      "metadata": {
        "colab": {
          "base_uri": "https://localhost:8080/"
        },
        "id": "Bv8_5bpfiMnh",
        "outputId": "f800b5c4-dbfc-4c48-c245-ee6900a75a60"
      },
      "source": [
        "show_ents(doc)"
      ],
      "execution_count": 126,
      "outputs": [
        {
          "output_type": "stream",
          "text": [
            "500 dollars  -  MONEY  -  Monetary values, including unit\n",
            "Microsoft  -  ORG  -  Companies, agencies, institutions, etc.\n"
          ],
          "name": "stdout"
        }
      ]
    },
    {
      "cell_type": "code",
      "metadata": {
        "id": "w0Fr_EYUiOFJ"
      },
      "source": [
        "doc = nlp(u\"Tesla to build a U.K. factory for 500 million dolars\")"
      ],
      "execution_count": 141,
      "outputs": []
    },
    {
      "cell_type": "code",
      "metadata": {
        "colab": {
          "base_uri": "https://localhost:8080/"
        },
        "id": "ZStCWqrbiuAR",
        "outputId": "971ae1fa-fb00-4981-e9aa-a9ba6bc76ad8"
      },
      "source": [
        "show_ents(doc)"
      ],
      "execution_count": 142,
      "outputs": [
        {
          "output_type": "stream",
          "text": [
            "U.K.  -  GPE  -  Countries, cities, states\n",
            "500 million  -  CARDINAL  -  Numerals that do not fall under another type\n"
          ],
          "name": "stdout"
        }
      ]
    },
    {
      "cell_type": "markdown",
      "metadata": {
        "id": "1TmcOKHZixsw"
      },
      "source": [
        "As we can see Tesla is not recognized as a company. "
      ]
    },
    {
      "cell_type": "code",
      "metadata": {
        "id": "nWAQdUZhivnQ"
      },
      "source": [
        "from spacy.tokens import Span"
      ],
      "execution_count": 143,
      "outputs": []
    },
    {
      "cell_type": "code",
      "metadata": {
        "id": "KZtQ0yrrjDdY"
      },
      "source": [
        "ORG = doc.vocab.strings[u\"ORG\"]"
      ],
      "execution_count": 144,
      "outputs": []
    },
    {
      "cell_type": "code",
      "metadata": {
        "colab": {
          "base_uri": "https://localhost:8080/"
        },
        "id": "GeTAO7EaIq-1",
        "outputId": "aecfef67-856e-44bb-c6c6-8403a2dbf1b9"
      },
      "source": [
        "ORG"
      ],
      "execution_count": 145,
      "outputs": [
        {
          "output_type": "execute_result",
          "data": {
            "text/plain": [
              "383"
            ]
          },
          "metadata": {
            "tags": []
          },
          "execution_count": 145
        }
      ]
    },
    {
      "cell_type": "code",
      "metadata": {
        "id": "pw2a1ARbIsYb"
      },
      "source": [
        "new_ent = Span(doc, 0,1, label=ORG)"
      ],
      "execution_count": 146,
      "outputs": []
    },
    {
      "cell_type": "code",
      "metadata": {
        "id": "YO4R18bBI5eE"
      },
      "source": [
        "doc.ents = list(doc.ents) + [new_ent]"
      ],
      "execution_count": 149,
      "outputs": []
    },
    {
      "cell_type": "code",
      "metadata": {
        "colab": {
          "base_uri": "https://localhost:8080/"
        },
        "id": "Ky5nssueJHrc",
        "outputId": "011d6daa-c21a-42ed-8dc6-48e4d48ed4e4"
      },
      "source": [
        "show_ents(doc)"
      ],
      "execution_count": 150,
      "outputs": [
        {
          "output_type": "stream",
          "text": [
            "Tesla  -  ORG  -  Companies, agencies, institutions, etc.\n",
            "U.K.  -  GPE  -  Countries, cities, states\n",
            "500 million  -  CARDINAL  -  Numerals that do not fall under another type\n"
          ],
          "name": "stdout"
        }
      ]
    },
    {
      "cell_type": "markdown",
      "metadata": {
        "id": "txSep8UQJfKy"
      },
      "source": [
        "As we have added Tesla to be organization that is why it is giving Tesla -ORG"
      ]
    },
    {
      "cell_type": "code",
      "metadata": {
        "id": "g6dr-fpnJOX0"
      },
      "source": [
        ""
      ],
      "execution_count": null,
      "outputs": []
    }
  ]
}